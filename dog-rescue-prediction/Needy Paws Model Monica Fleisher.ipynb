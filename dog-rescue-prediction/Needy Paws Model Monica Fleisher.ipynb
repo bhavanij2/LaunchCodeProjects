{
 "cells": [
  {
   "cell_type": "markdown",
   "metadata": {},
   "source": [
    "## Needy Paws Adoption Data Model"
   ]
  },
  {
   "cell_type": "code",
   "execution_count": 125,
   "metadata": {},
   "outputs": [
    {
     "data": {
      "text/html": [
       "<div>\n",
       "<style scoped>\n",
       "    .dataframe tbody tr th:only-of-type {\n",
       "        vertical-align: middle;\n",
       "    }\n",
       "\n",
       "    .dataframe tbody tr th {\n",
       "        vertical-align: top;\n",
       "    }\n",
       "\n",
       "    .dataframe thead th {\n",
       "        text-align: right;\n",
       "    }\n",
       "</style>\n",
       "<table border=\"1\" class=\"dataframe\">\n",
       "  <thead>\n",
       "    <tr style=\"text-align: right;\">\n",
       "      <th></th>\n",
       "      <th>Name of Dog</th>\n",
       "      <th>Days in Rescue</th>\n",
       "      <th>Heartworm Positive</th>\n",
       "      <th>Breed</th>\n",
       "      <th>Sex</th>\n",
       "      <th>Age Group When Rescued</th>\n",
       "      <th>Color</th>\n",
       "      <th>Size</th>\n",
       "    </tr>\n",
       "  </thead>\n",
       "  <tbody>\n",
       "    <tr>\n",
       "      <th>0</th>\n",
       "      <td>Aaron</td>\n",
       "      <td>30</td>\n",
       "      <td>N</td>\n",
       "      <td>Labrador</td>\n",
       "      <td>M</td>\n",
       "      <td>Young</td>\n",
       "      <td>Yellow</td>\n",
       "      <td>Medium</td>\n",
       "    </tr>\n",
       "    <tr>\n",
       "      <th>1</th>\n",
       "      <td>Abby</td>\n",
       "      <td>11</td>\n",
       "      <td>N</td>\n",
       "      <td>Dachshund</td>\n",
       "      <td>F</td>\n",
       "      <td>Adult</td>\n",
       "      <td>Tan</td>\n",
       "      <td>Small</td>\n",
       "    </tr>\n",
       "    <tr>\n",
       "      <th>2</th>\n",
       "      <td>Abby</td>\n",
       "      <td>31</td>\n",
       "      <td>N</td>\n",
       "      <td>Unknown</td>\n",
       "      <td>F</td>\n",
       "      <td>Adult</td>\n",
       "      <td>Brindle</td>\n",
       "      <td>Medium</td>\n",
       "    </tr>\n",
       "    <tr>\n",
       "      <th>3</th>\n",
       "      <td>Abby</td>\n",
       "      <td>47</td>\n",
       "      <td>N</td>\n",
       "      <td>Mixed Breed (Non-Pitbull)</td>\n",
       "      <td>F</td>\n",
       "      <td>Puppy</td>\n",
       "      <td>Multicolor</td>\n",
       "      <td>Medium</td>\n",
       "    </tr>\n",
       "    <tr>\n",
       "      <th>4</th>\n",
       "      <td>Abby</td>\n",
       "      <td>83</td>\n",
       "      <td>N</td>\n",
       "      <td>Chihuahua</td>\n",
       "      <td>F</td>\n",
       "      <td>Adult</td>\n",
       "      <td>Tan</td>\n",
       "      <td>Small</td>\n",
       "    </tr>\n",
       "  </tbody>\n",
       "</table>\n",
       "</div>"
      ],
      "text/plain": [
       "  Name of Dog  Days in Rescue Heartworm Positive                      Breed  \\\n",
       "0       Aaron              30                  N                   Labrador   \n",
       "1        Abby              11                  N                  Dachshund   \n",
       "2        Abby              31                  N                    Unknown   \n",
       "3        Abby              47                  N  Mixed Breed (Non-Pitbull)   \n",
       "4        Abby              83                  N                  Chihuahua   \n",
       "\n",
       "  Sex Age Group When Rescued       Color    Size  \n",
       "0   M                  Young      Yellow  Medium  \n",
       "1   F                  Adult         Tan   Small  \n",
       "2   F                  Adult     Brindle  Medium  \n",
       "3   F                  Puppy  Multicolor  Medium  \n",
       "4   F                  Adult         Tan   Small  "
      ]
     },
     "execution_count": 125,
     "metadata": {},
     "output_type": "execute_result"
    }
   ],
   "source": [
    "import pandas as pd  \n",
    "import numpy as np  \n",
    "import matplotlib.pyplot as plt  \n",
    "import seaborn as sns\n",
    "from scipy import stats\n",
    "%matplotlib inline\n",
    "\n",
    "dogs = pd.read_excel('/Users/bbjang/Documents/LaunchCodeProjects/dog-rescue-prediction/NeedyPawsMaster.xlsx', sep=\",\")\n",
    "\n",
    "dogs_filtered = dogs.copy()\n",
    "\n",
    "dogs.head()"
   ]
  },
  {
   "cell_type": "code",
   "execution_count": 126,
   "metadata": {},
   "outputs": [
    {
     "data": {
      "text/plain": [
       "(3088, 8)"
      ]
     },
     "execution_count": 126,
     "metadata": {},
     "output_type": "execute_result"
    }
   ],
   "source": [
    "dogs.shape"
   ]
  },
  {
   "cell_type": "code",
   "execution_count": 127,
   "metadata": {},
   "outputs": [
    {
     "data": {
      "text/html": [
       "<div>\n",
       "<style scoped>\n",
       "    .dataframe tbody tr th:only-of-type {\n",
       "        vertical-align: middle;\n",
       "    }\n",
       "\n",
       "    .dataframe tbody tr th {\n",
       "        vertical-align: top;\n",
       "    }\n",
       "\n",
       "    .dataframe thead th {\n",
       "        text-align: right;\n",
       "    }\n",
       "</style>\n",
       "<table border=\"1\" class=\"dataframe\">\n",
       "  <thead>\n",
       "    <tr style=\"text-align: right;\">\n",
       "      <th></th>\n",
       "      <th>Name of Dog</th>\n",
       "      <th>Days in Rescue</th>\n",
       "      <th>Heartworm Positive</th>\n",
       "      <th>Breed</th>\n",
       "      <th>Sex</th>\n",
       "      <th>Age Group When Rescued</th>\n",
       "      <th>Color</th>\n",
       "      <th>Size</th>\n",
       "    </tr>\n",
       "  </thead>\n",
       "  <tbody>\n",
       "    <tr>\n",
       "      <th>0</th>\n",
       "      <td>Aaron</td>\n",
       "      <td>30</td>\n",
       "      <td>N</td>\n",
       "      <td>Labrador</td>\n",
       "      <td>M</td>\n",
       "      <td>Young</td>\n",
       "      <td>Yellow</td>\n",
       "      <td>Medium</td>\n",
       "    </tr>\n",
       "    <tr>\n",
       "      <th>1</th>\n",
       "      <td>Abby</td>\n",
       "      <td>11</td>\n",
       "      <td>N</td>\n",
       "      <td>Dachshund</td>\n",
       "      <td>F</td>\n",
       "      <td>Adult</td>\n",
       "      <td>Tan</td>\n",
       "      <td>Small</td>\n",
       "    </tr>\n",
       "    <tr>\n",
       "      <th>2</th>\n",
       "      <td>Abby</td>\n",
       "      <td>31</td>\n",
       "      <td>N</td>\n",
       "      <td>Unknown</td>\n",
       "      <td>F</td>\n",
       "      <td>Adult</td>\n",
       "      <td>Brindle</td>\n",
       "      <td>Medium</td>\n",
       "    </tr>\n",
       "    <tr>\n",
       "      <th>3</th>\n",
       "      <td>Abby</td>\n",
       "      <td>47</td>\n",
       "      <td>N</td>\n",
       "      <td>Mixed Breed (Non-Pitbull)</td>\n",
       "      <td>F</td>\n",
       "      <td>Puppy</td>\n",
       "      <td>Multicolor</td>\n",
       "      <td>Medium</td>\n",
       "    </tr>\n",
       "    <tr>\n",
       "      <th>4</th>\n",
       "      <td>Abby</td>\n",
       "      <td>83</td>\n",
       "      <td>N</td>\n",
       "      <td>Chihuahua</td>\n",
       "      <td>F</td>\n",
       "      <td>Adult</td>\n",
       "      <td>Tan</td>\n",
       "      <td>Small</td>\n",
       "    </tr>\n",
       "  </tbody>\n",
       "</table>\n",
       "</div>"
      ],
      "text/plain": [
       "  Name of Dog  Days in Rescue Heartworm Positive                      Breed  \\\n",
       "0       Aaron              30                  N                   Labrador   \n",
       "1        Abby              11                  N                  Dachshund   \n",
       "2        Abby              31                  N                    Unknown   \n",
       "3        Abby              47                  N  Mixed Breed (Non-Pitbull)   \n",
       "4        Abby              83                  N                  Chihuahua   \n",
       "\n",
       "  Sex Age Group When Rescued       Color    Size  \n",
       "0   M                  Young      Yellow  Medium  \n",
       "1   F                  Adult         Tan   Small  \n",
       "2   F                  Adult     Brindle  Medium  \n",
       "3   F                  Puppy  Multicolor  Medium  \n",
       "4   F                  Adult         Tan   Small  "
      ]
     },
     "execution_count": 127,
     "metadata": {},
     "output_type": "execute_result"
    }
   ],
   "source": [
    "dogs_filtered.head()"
   ]
  },
  {
   "cell_type": "code",
   "execution_count": 128,
   "metadata": {},
   "outputs": [
    {
     "data": {
      "text/plain": [
       "(3088, 8)"
      ]
     },
     "execution_count": 128,
     "metadata": {},
     "output_type": "execute_result"
    }
   ],
   "source": [
    "dogs_filtered.shape"
   ]
  },
  {
   "cell_type": "code",
   "execution_count": 129,
   "metadata": {},
   "outputs": [],
   "source": [
    "dogs_filtered.dropna(inplace=True)"
   ]
  },
  {
   "cell_type": "code",
   "execution_count": 130,
   "metadata": {},
   "outputs": [
    {
     "data": {
      "text/plain": [
       "(3014, 8)"
      ]
     },
     "execution_count": 130,
     "metadata": {},
     "output_type": "execute_result"
    }
   ],
   "source": [
    "dogs_filtered.shape"
   ]
  },
  {
   "cell_type": "code",
   "execution_count": 131,
   "metadata": {},
   "outputs": [],
   "source": [
    "dogs_filtered.drop(columns=['Name of Dog'], inplace = True)"
   ]
  },
  {
   "cell_type": "code",
   "execution_count": 132,
   "metadata": {},
   "outputs": [
    {
     "data": {
      "text/plain": [
       "(3014, 7)"
      ]
     },
     "execution_count": 132,
     "metadata": {},
     "output_type": "execute_result"
    }
   ],
   "source": [
    "dogs_filtered.shape"
   ]
  },
  {
   "cell_type": "code",
   "execution_count": 134,
   "metadata": {},
   "outputs": [],
   "source": [
    "dogs_filtered.drop(index = dogs_filtered[dogs_filtered['Days in Rescue'] == 'Unknown'].index, inplace = True)\n"
   ]
  },
  {
   "cell_type": "code",
   "execution_count": 135,
   "metadata": {},
   "outputs": [
    {
     "data": {
      "text/plain": [
       "(3014, 7)"
      ]
     },
     "execution_count": 135,
     "metadata": {},
     "output_type": "execute_result"
    }
   ],
   "source": [
    "dogs_filtered.shape"
   ]
  },
  {
   "cell_type": "code",
   "execution_count": 136,
   "metadata": {},
   "outputs": [],
   "source": [
    "dogs_filtered.drop(index = dogs_filtered[dogs_filtered['Heartworm Positive'] == 'Unknown'].index, inplace = True)\n"
   ]
  },
  {
   "cell_type": "code",
   "execution_count": 137,
   "metadata": {},
   "outputs": [
    {
     "data": {
      "text/plain": [
       "(3014, 7)"
      ]
     },
     "execution_count": 137,
     "metadata": {},
     "output_type": "execute_result"
    }
   ],
   "source": [
    "dogs_filtered.shape"
   ]
  },
  {
   "cell_type": "code",
   "execution_count": 138,
   "metadata": {},
   "outputs": [],
   "source": [
    "dogs_filtered.drop(index = dogs_filtered[dogs_filtered['Breed'] == 'Unknown'].index, inplace = True)\n"
   ]
  },
  {
   "cell_type": "code",
   "execution_count": 139,
   "metadata": {},
   "outputs": [
    {
     "data": {
      "text/plain": [
       "(3008, 7)"
      ]
     },
     "execution_count": 139,
     "metadata": {},
     "output_type": "execute_result"
    }
   ],
   "source": [
    "dogs_filtered.shape"
   ]
  },
  {
   "cell_type": "code",
   "execution_count": 140,
   "metadata": {},
   "outputs": [],
   "source": [
    "dogs_filtered.drop(index = dogs_filtered[dogs_filtered['Sex'] == 'Unknown'].index, inplace = True)\n"
   ]
  },
  {
   "cell_type": "code",
   "execution_count": 141,
   "metadata": {},
   "outputs": [
    {
     "data": {
      "text/plain": [
       "(3008, 7)"
      ]
     },
     "execution_count": 141,
     "metadata": {},
     "output_type": "execute_result"
    }
   ],
   "source": [
    "dogs_filtered.shape"
   ]
  },
  {
   "cell_type": "code",
   "execution_count": 142,
   "metadata": {},
   "outputs": [],
   "source": [
    "dogs_filtered.drop(index = dogs_filtered[dogs_filtered['Age Group When Rescued'] == 'Unknown'].index, inplace = True)\n"
   ]
  },
  {
   "cell_type": "code",
   "execution_count": 143,
   "metadata": {},
   "outputs": [
    {
     "data": {
      "text/plain": [
       "(3007, 7)"
      ]
     },
     "execution_count": 143,
     "metadata": {},
     "output_type": "execute_result"
    }
   ],
   "source": [
    "dogs_filtered.shape"
   ]
  },
  {
   "cell_type": "code",
   "execution_count": 144,
   "metadata": {},
   "outputs": [],
   "source": [
    "dogs_filtered.drop(index = dogs_filtered[dogs_filtered['Color'] == 'Unknown'].index, inplace = True)\n"
   ]
  },
  {
   "cell_type": "code",
   "execution_count": 145,
   "metadata": {},
   "outputs": [
    {
     "data": {
      "text/plain": [
       "(3007, 7)"
      ]
     },
     "execution_count": 145,
     "metadata": {},
     "output_type": "execute_result"
    }
   ],
   "source": [
    "dogs_filtered.shape"
   ]
  },
  {
   "cell_type": "code",
   "execution_count": 146,
   "metadata": {},
   "outputs": [],
   "source": [
    "dogs_filtered.drop(index = dogs_filtered[dogs_filtered['Size'] == 'Unknown'].index, inplace = True)\n"
   ]
  },
  {
   "cell_type": "code",
   "execution_count": 147,
   "metadata": {},
   "outputs": [
    {
     "data": {
      "text/plain": [
       "(3007, 7)"
      ]
     },
     "execution_count": 147,
     "metadata": {},
     "output_type": "execute_result"
    }
   ],
   "source": [
    "dogs_filtered.shape"
   ]
  },
  {
   "cell_type": "code",
   "execution_count": 148,
   "metadata": {},
   "outputs": [
    {
     "data": {
      "text/html": [
       "<div>\n",
       "<style scoped>\n",
       "    .dataframe tbody tr th:only-of-type {\n",
       "        vertical-align: middle;\n",
       "    }\n",
       "\n",
       "    .dataframe tbody tr th {\n",
       "        vertical-align: top;\n",
       "    }\n",
       "\n",
       "    .dataframe thead th {\n",
       "        text-align: right;\n",
       "    }\n",
       "</style>\n",
       "<table border=\"1\" class=\"dataframe\">\n",
       "  <thead>\n",
       "    <tr style=\"text-align: right;\">\n",
       "      <th></th>\n",
       "      <th>Days in Rescue</th>\n",
       "      <th>Heartworm Positive</th>\n",
       "      <th>Breed</th>\n",
       "      <th>Sex</th>\n",
       "      <th>Age Group When Rescued</th>\n",
       "      <th>Color</th>\n",
       "      <th>Size</th>\n",
       "    </tr>\n",
       "  </thead>\n",
       "  <tbody>\n",
       "    <tr>\n",
       "      <th>0</th>\n",
       "      <td>30</td>\n",
       "      <td>N</td>\n",
       "      <td>Labrador</td>\n",
       "      <td>M</td>\n",
       "      <td>Young</td>\n",
       "      <td>Yellow</td>\n",
       "      <td>Medium</td>\n",
       "    </tr>\n",
       "    <tr>\n",
       "      <th>1</th>\n",
       "      <td>11</td>\n",
       "      <td>N</td>\n",
       "      <td>Dachshund</td>\n",
       "      <td>F</td>\n",
       "      <td>Adult</td>\n",
       "      <td>Tan</td>\n",
       "      <td>Small</td>\n",
       "    </tr>\n",
       "    <tr>\n",
       "      <th>3</th>\n",
       "      <td>47</td>\n",
       "      <td>N</td>\n",
       "      <td>Mixed Breed (Non-Pitbull)</td>\n",
       "      <td>F</td>\n",
       "      <td>Puppy</td>\n",
       "      <td>Multicolor</td>\n",
       "      <td>Medium</td>\n",
       "    </tr>\n",
       "    <tr>\n",
       "      <th>4</th>\n",
       "      <td>83</td>\n",
       "      <td>N</td>\n",
       "      <td>Chihuahua</td>\n",
       "      <td>F</td>\n",
       "      <td>Adult</td>\n",
       "      <td>Tan</td>\n",
       "      <td>Small</td>\n",
       "    </tr>\n",
       "    <tr>\n",
       "      <th>5</th>\n",
       "      <td>90</td>\n",
       "      <td>N</td>\n",
       "      <td>Mastiff</td>\n",
       "      <td>F</td>\n",
       "      <td>Young</td>\n",
       "      <td>Red</td>\n",
       "      <td>Large</td>\n",
       "    </tr>\n",
       "  </tbody>\n",
       "</table>\n",
       "</div>"
      ],
      "text/plain": [
       "   Days in Rescue Heartworm Positive                      Breed Sex  \\\n",
       "0              30                  N                   Labrador   M   \n",
       "1              11                  N                  Dachshund   F   \n",
       "3              47                  N  Mixed Breed (Non-Pitbull)   F   \n",
       "4              83                  N                  Chihuahua   F   \n",
       "5              90                  N                    Mastiff   F   \n",
       "\n",
       "  Age Group When Rescued       Color    Size  \n",
       "0                  Young      Yellow  Medium  \n",
       "1                  Adult         Tan   Small  \n",
       "3                  Puppy  Multicolor  Medium  \n",
       "4                  Adult         Tan   Small  \n",
       "5                  Young         Red   Large  "
      ]
     },
     "execution_count": 148,
     "metadata": {},
     "output_type": "execute_result"
    }
   ],
   "source": [
    "dogs_filtered.head()"
   ]
  },
  {
   "cell_type": "code",
   "execution_count": 149,
   "metadata": {},
   "outputs": [
    {
     "data": {
      "text/plain": [
       "array(['Labrador', 'Dachshund', 'Unknown', 'Mixed Breed (Non-Pitbull)',\n",
       "       'Chihuahua', 'Mastiff', 'Shepherd', 'Golden Retriever ',\n",
       "       'Border Collie', 'Pointer', 'Pitbull', 'Mixed Breed (Pitbull)',\n",
       "       'Schnauzer', 'Great Pyranees', 'Aussie', 'Beagle',\n",
       "       'Cocker Spaniel', 'Jack Russell Terrier', 'Terrier', 'Shih Tzu',\n",
       "       'Hound', 'Rottweiler', 'Corgi', 'Yorkie',\n",
       "       'MIxed Breed (Non-Pitbull)', 'German Shepherd', 'Golden Retriever',\n",
       "       'Husky', 'Black Mouth Cur', 'Japanese Chin', 'Shar Pei',\n",
       "       'Plott Hound', 'Sheltie', 'Pug ', 'Poodle', 'Shiba Inu',\n",
       "       'Miniature Pinscher', 'Bichon Frise', 'Rat Terrier', 'Pomeranian',\n",
       "       'Maltese', 'Pug', 'Catahoula', 'Basset Hound', 'Brittany Spaniel',\n",
       "       'Boxer  ', 'Chow Chow', 'Westie', 'Boxer', 'Doberman',\n",
       "       'Italian GreyHound', 'Cane Corso', 'Papillion', 'Weimaraner',\n",
       "       'Scottish Terrier', 'Cairn Terrier', 'Boston Terrier', 'Spaniel',\n",
       "       'Coonhound', 'Australian Cattle Dog', 'Bulldog',\n",
       "       'American Staffordshire Terrier', 'Beagle ', 'American Bulldog',\n",
       "       'Malamute', 'Coton de Tulear', 'Hound  ', 'Lhasa Apso',\n",
       "       'Bernese Mountain Dog', 'Heeler', 'Great Dane', 'Dalmation',\n",
       "       'English Bulldog', 'English Setter', 'Rat Terrier ',\n",
       "       'Brussels Griffon', 'Havanese', 'Dachshund ', 'Affenpinscher',\n",
       "       'Labrador ', 'Vizsla', 'Pekinese', 'Manchester Terrier', 'Whippet',\n",
       "       'Irish Setter', 'Spitz', 'Mountain Cur', 'Blue Tick Coonhound',\n",
       "       'Doberman  ', 'Basenji', 'Sheltie  ', 'Bearded Collie',\n",
       "       'Italian Greyhound', 'German Shepherd ', 'Yorkie ', 'St. Bernard',\n",
       "       'Beagle  ', 'Keeshond', 'Terrier ', 'Anatolian Shepherd',\n",
       "       'Maltese ', 'Dogo Argentino', 'MIxed Breed (Pitbull)'],\n",
       "      dtype=object)"
      ]
     },
     "execution_count": 149,
     "metadata": {},
     "output_type": "execute_result"
    }
   ],
   "source": [
    "dogs['Breed'].unique()"
   ]
  },
  {
   "cell_type": "code",
   "execution_count": 150,
   "metadata": {},
   "outputs": [
    {
     "data": {
      "text/plain": [
       "103"
      ]
     },
     "execution_count": 150,
     "metadata": {},
     "output_type": "execute_result"
    }
   ],
   "source": [
    "dogs['Breed'].unique().size"
   ]
  },
  {
   "cell_type": "code",
   "execution_count": 151,
   "metadata": {},
   "outputs": [],
   "source": [
    "dogs_filtered['Breed'] = dogs_filtered['Breed'].apply(lambda x: x.lower())"
   ]
  },
  {
   "cell_type": "code",
   "execution_count": 152,
   "metadata": {},
   "outputs": [
    {
     "data": {
      "text/plain": [
       "array(['labrador', 'dachshund', 'mixed breed (non-pitbull)', 'chihuahua',\n",
       "       'mastiff', 'shepherd', 'golden retriever ', 'border collie',\n",
       "       'pointer', 'pitbull', 'mixed breed (pitbull)', 'schnauzer',\n",
       "       'great pyranees', 'aussie', 'beagle', 'cocker spaniel',\n",
       "       'jack russell terrier', 'terrier', 'shih tzu', 'hound',\n",
       "       'rottweiler', 'corgi', 'yorkie', 'german shepherd',\n",
       "       'golden retriever', 'husky', 'black mouth cur', 'japanese chin',\n",
       "       'shar pei', 'plott hound', 'sheltie', 'pug ', 'poodle',\n",
       "       'shiba inu', 'miniature pinscher', 'bichon frise', 'rat terrier',\n",
       "       'pomeranian', 'maltese', 'pug', 'catahoula', 'basset hound',\n",
       "       'brittany spaniel', 'boxer  ', 'chow chow', 'westie', 'boxer',\n",
       "       'doberman', 'italian greyhound', 'cane corso', 'papillion',\n",
       "       'weimaraner', 'scottish terrier', 'cairn terrier',\n",
       "       'boston terrier', 'spaniel', 'coonhound', 'australian cattle dog',\n",
       "       'bulldog', 'american staffordshire terrier', 'beagle ',\n",
       "       'american bulldog', 'malamute', 'coton de tulear', 'hound  ',\n",
       "       'lhasa apso', 'bernese mountain dog', 'heeler', 'great dane',\n",
       "       'dalmation', 'english bulldog', 'english setter', 'rat terrier ',\n",
       "       'brussels griffon', 'havanese', 'dachshund ', 'affenpinscher',\n",
       "       'labrador ', 'vizsla', 'pekinese', 'manchester terrier', 'whippet',\n",
       "       'irish setter', 'spitz', 'mountain cur', 'blue tick coonhound',\n",
       "       'basenji', 'sheltie  ', 'bearded collie', 'german shepherd ',\n",
       "       'yorkie ', 'st. bernard', 'beagle  ', 'keeshond', 'terrier ',\n",
       "       'anatolian shepherd', 'maltese ', 'dogo argentino'], dtype=object)"
      ]
     },
     "execution_count": 152,
     "metadata": {},
     "output_type": "execute_result"
    }
   ],
   "source": [
    "dogs_filtered['Breed'].unique()"
   ]
  },
  {
   "cell_type": "code",
   "execution_count": 153,
   "metadata": {},
   "outputs": [
    {
     "data": {
      "text/plain": [
       "98"
      ]
     },
     "execution_count": 153,
     "metadata": {},
     "output_type": "execute_result"
    }
   ],
   "source": [
    "dogs_filtered['Breed'].unique().size"
   ]
  },
  {
   "cell_type": "code",
   "execution_count": 154,
   "metadata": {},
   "outputs": [
    {
     "data": {
      "text/plain": [
       "<matplotlib.collections.PathCollection at 0x1a490d94d0>"
      ]
     },
     "execution_count": 154,
     "metadata": {},
     "output_type": "execute_result"
    },
    {
     "data": {
      "image/png": "[encoded data removed]",
      "text/plain": [
       "<Figure size 432x288 with 1 Axes>"
      ]
     },
     "metadata": {
      "needs_background": "light"
     },
     "output_type": "display_data"
    }
   ],
   "source": [
    "plt.scatter(dogs_filtered['Breed'], dogs_filtered['Days in Rescue'])"
   ]
  },
  {
   "cell_type": "code",
   "execution_count": null,
   "metadata": {},
   "outputs": [],
   "source": []
  },
  {
   "cell_type": "code",
   "execution_count": 155,
   "metadata": {},
   "outputs": [
    {
     "data": {
      "text/plain": [
       "array(['N', 'Y', 'y'], dtype=object)"
      ]
     },
     "execution_count": 155,
     "metadata": {},
     "output_type": "execute_result"
    }
   ],
   "source": [
    "dogs['Heartworm Positive'].unique()"
   ]
  },
  {
   "cell_type": "code",
   "execution_count": 156,
   "metadata": {},
   "outputs": [],
   "source": [
    "dogs_filtered['Heartworm Positive'] = dogs_filtered['Heartworm Positive'].apply(lambda x: x.upper())"
   ]
  },
  {
   "cell_type": "code",
   "execution_count": 157,
   "metadata": {},
   "outputs": [
    {
     "data": {
      "text/plain": [
       "array(['N', 'Y'], dtype=object)"
      ]
     },
     "execution_count": 157,
     "metadata": {},
     "output_type": "execute_result"
    }
   ],
   "source": [
    "dogs_filtered['Heartworm Positive'].unique()"
   ]
  },
  {
   "cell_type": "code",
   "execution_count": 158,
   "metadata": {},
   "outputs": [
    {
     "data": {
      "text/plain": [
       "<matplotlib.collections.PathCollection at 0x1a4954c390>"
      ]
     },
     "execution_count": 158,
     "metadata": {},
     "output_type": "execute_result"
    },
    {
     "data": {
      "image/png": "[encoded data removed]",
      "text/plain": [
       "<Figure size 432x288 with 1 Axes>"
      ]
     },
     "metadata": {
      "needs_background": "light"
     },
     "output_type": "display_data"
    }
   ],
   "source": [
    "plt.scatter(dogs_filtered['Heartworm Positive'], dogs_filtered['Days in Rescue'])"
   ]
  },
  {
   "cell_type": "code",
   "execution_count": null,
   "metadata": {},
   "outputs": [],
   "source": []
  },
  {
   "cell_type": "code",
   "execution_count": 159,
   "metadata": {},
   "outputs": [
    {
     "data": {
      "text/plain": [
       "array(['M', 'F'], dtype=object)"
      ]
     },
     "execution_count": 159,
     "metadata": {},
     "output_type": "execute_result"
    }
   ],
   "source": [
    "dogs_filtered['Sex'].unique()"
   ]
  },
  {
   "cell_type": "code",
   "execution_count": 160,
   "metadata": {},
   "outputs": [
    {
     "data": {
      "text/plain": [
       "<matplotlib.collections.PathCollection at 0x1a49247510>"
      ]
     },
     "execution_count": 160,
     "metadata": {},
     "output_type": "execute_result"
    },
    {
     "data": {
      "image/png": "[encoded data removed]",
      "text/plain": [
       "<Figure size 432x288 with 1 Axes>"
      ]
     },
     "metadata": {
      "needs_background": "light"
     },
     "output_type": "display_data"
    }
   ],
   "source": [
    "plt.scatter(dogs_filtered['Sex'], dogs_filtered['Days in Rescue'])"
   ]
  },
  {
   "cell_type": "code",
   "execution_count": null,
   "metadata": {},
   "outputs": [],
   "source": []
  },
  {
   "cell_type": "code",
   "execution_count": 161,
   "metadata": {},
   "outputs": [
    {
     "data": {
      "text/plain": [
       "array(['Young', 'Adult', 'Puppy', 'Senior'], dtype=object)"
      ]
     },
     "execution_count": 161,
     "metadata": {},
     "output_type": "execute_result"
    }
   ],
   "source": [
    "dogs_filtered['Age Group When Rescued'].unique()"
   ]
  },
  {
   "cell_type": "code",
   "execution_count": 162,
   "metadata": {},
   "outputs": [
    {
     "data": {
      "text/plain": [
       "<matplotlib.collections.PathCollection at 0x1a49401990>"
      ]
     },
     "execution_count": 162,
     "metadata": {},
     "output_type": "execute_result"
    },
    {
     "data": {
      "image/png": "[encoded data removed]",
      "text/plain": [
       "<Figure size 432x288 with 1 Axes>"
      ]
     },
     "metadata": {
      "needs_background": "light"
     },
     "output_type": "display_data"
    }
   ],
   "source": [
    "plt.scatter(dogs_filtered['Age Group When Rescued'], dogs_filtered['Days in Rescue'])"
   ]
  },
  {
   "cell_type": "code",
   "execution_count": null,
   "metadata": {},
   "outputs": [],
   "source": []
  },
  {
   "cell_type": "code",
   "execution_count": 163,
   "metadata": {},
   "outputs": [
    {
     "data": {
      "text/plain": [
       "array(['Yellow', 'Tan', 'Multicolor', 'Red', 'Brindle', 'White', 'Black',\n",
       "       'Brown', 'Blue', 'Gray', 'Merle'], dtype=object)"
      ]
     },
     "execution_count": 163,
     "metadata": {},
     "output_type": "execute_result"
    }
   ],
   "source": [
    "dogs_filtered['Color'].unique()"
   ]
  },
  {
   "cell_type": "code",
   "execution_count": 164,
   "metadata": {},
   "outputs": [
    {
     "data": {
      "text/plain": [
       "<matplotlib.collections.PathCollection at 0x1a49787250>"
      ]
     },
     "execution_count": 164,
     "metadata": {},
     "output_type": "execute_result"
    },
    {
     "data": {
      "image/png": "[encoded data removed]",
      "text/plain": [
       "<Figure size 432x288 with 1 Axes>"
      ]
     },
     "metadata": {
      "needs_background": "light"
     },
     "output_type": "display_data"
    }
   ],
   "source": [
    "plt.scatter(dogs_filtered['Color'], dogs_filtered['Days in Rescue'])"
   ]
  },
  {
   "cell_type": "code",
   "execution_count": null,
   "metadata": {},
   "outputs": [],
   "source": []
  },
  {
   "cell_type": "code",
   "execution_count": 165,
   "metadata": {},
   "outputs": [
    {
     "data": {
      "text/plain": [
       "array(['Medium', 'Small', 'Large', 'X Large'], dtype=object)"
      ]
     },
     "execution_count": 165,
     "metadata": {},
     "output_type": "execute_result"
    }
   ],
   "source": [
    "dogs_filtered['Size'].unique()"
   ]
  },
  {
   "cell_type": "code",
   "execution_count": 166,
   "metadata": {},
   "outputs": [
    {
     "data": {
      "text/plain": [
       "<matplotlib.collections.PathCollection at 0x1a4978b510>"
      ]
     },
     "execution_count": 166,
     "metadata": {},
     "output_type": "execute_result"
    },
    {
     "data": {
      "image/png": "[encoded data removed]",
      "text/plain": [
       "<Figure size 432x288 with 1 Axes>"
      ]
     },
     "metadata": {
      "needs_background": "light"
     },
     "output_type": "display_data"
    }
   ],
   "source": [
    "plt.scatter(dogs_filtered['Size'], dogs_filtered['Days in Rescue'])"
   ]
  },
  {
   "cell_type": "code",
   "execution_count": null,
   "metadata": {},
   "outputs": [],
   "source": []
  },
  {
   "cell_type": "code",
   "execution_count": 167,
   "metadata": {},
   "outputs": [
    {
     "data": {
      "text/plain": [
       "array([[<matplotlib.axes._subplots.AxesSubplot object at 0x1a498e0a10>]],\n",
       "      dtype=object)"
      ]
     },
     "execution_count": 167,
     "metadata": {},
     "output_type": "execute_result"
    },
    {
     "data": {
      "image/png": "[encoded data removed]",
      "text/plain": [
       "<Figure size 432x288 with 1 Axes>"
      ]
     },
     "metadata": {
      "needs_background": "light"
     },
     "output_type": "display_data"
    }
   ],
   "source": [
    "dogs_filtered.hist()"
   ]
  },
  {
   "cell_type": "code",
   "execution_count": 168,
   "metadata": {},
   "outputs": [],
   "source": [
    "dogs_filtered = dogs_filtered[dogs_filtered['Days in Rescue'] <= 350]"
   ]
  },
  {
   "cell_type": "code",
   "execution_count": 169,
   "metadata": {},
   "outputs": [
    {
     "data": {
      "text/plain": [
       "array([[<matplotlib.axes._subplots.AxesSubplot object at 0x1a498fad10>]],\n",
       "      dtype=object)"
      ]
     },
     "execution_count": 169,
     "metadata": {},
     "output_type": "execute_result"
    },
    {
     "data": {
      "image/png": "[encoded data removed]",
      "text/plain": [
       "<Figure size 432x288 with 1 Axes>"
      ]
     },
     "metadata": {
      "needs_background": "light"
     },
     "output_type": "display_data"
    }
   ],
   "source": [
    "dogs_filtered.hist()"
   ]
  },
  {
   "cell_type": "code",
   "execution_count": 170,
   "metadata": {},
   "outputs": [
    {
     "data": {
      "text/plain": [
       "(2981, 7)"
      ]
     },
     "execution_count": 170,
     "metadata": {},
     "output_type": "execute_result"
    }
   ],
   "source": [
    "dogs_filtered.shape"
   ]
  },
  {
   "cell_type": "code",
   "execution_count": null,
   "metadata": {},
   "outputs": [],
   "source": []
  },
  {
   "cell_type": "code",
   "execution_count": 171,
   "metadata": {},
   "outputs": [],
   "source": [
    "X = dogs_filtered[['Breed', 'Sex', 'Age Group When Rescued', 'Color', 'Size', 'Heartworm Positive']]"
   ]
  },
  {
   "cell_type": "code",
   "execution_count": 172,
   "metadata": {},
   "outputs": [],
   "source": [
    "Y = dogs_filtered['Days in Rescue']"
   ]
  },
  {
   "cell_type": "code",
   "execution_count": 173,
   "metadata": {},
   "outputs": [],
   "source": [
    "#Convert categorical variable into dummy/indicator variables \n",
    "#and drop one in each category\n",
    "X = pd.get_dummies(data=X, drop_first=True)"
   ]
  },
  {
   "cell_type": "code",
   "execution_count": 174,
   "metadata": {},
   "outputs": [
    {
     "data": {
      "text/html": [
       "<div>\n",
       "<style scoped>\n",
       "    .dataframe tbody tr th:only-of-type {\n",
       "        vertical-align: middle;\n",
       "    }\n",
       "\n",
       "    .dataframe tbody tr th {\n",
       "        vertical-align: top;\n",
       "    }\n",
       "\n",
       "    .dataframe thead th {\n",
       "        text-align: right;\n",
       "    }\n",
       "</style>\n",
       "<table border=\"1\" class=\"dataframe\">\n",
       "  <thead>\n",
       "    <tr style=\"text-align: right;\">\n",
       "      <th></th>\n",
       "      <th>Breed_american bulldog</th>\n",
       "      <th>Breed_american staffordshire terrier</th>\n",
       "      <th>Breed_anatolian shepherd</th>\n",
       "      <th>Breed_aussie</th>\n",
       "      <th>Breed_australian cattle dog</th>\n",
       "      <th>Breed_basenji</th>\n",
       "      <th>Breed_basset hound</th>\n",
       "      <th>Breed_beagle</th>\n",
       "      <th>Breed_beagle</th>\n",
       "      <th>Breed_beagle</th>\n",
       "      <th>...</th>\n",
       "      <th>Color_Merle</th>\n",
       "      <th>Color_Multicolor</th>\n",
       "      <th>Color_Red</th>\n",
       "      <th>Color_Tan</th>\n",
       "      <th>Color_White</th>\n",
       "      <th>Color_Yellow</th>\n",
       "      <th>Size_Medium</th>\n",
       "      <th>Size_Small</th>\n",
       "      <th>Size_X Large</th>\n",
       "      <th>Heartworm Positive_Y</th>\n",
       "    </tr>\n",
       "  </thead>\n",
       "  <tbody>\n",
       "    <tr>\n",
       "      <th>0</th>\n",
       "      <td>0</td>\n",
       "      <td>0</td>\n",
       "      <td>0</td>\n",
       "      <td>0</td>\n",
       "      <td>0</td>\n",
       "      <td>0</td>\n",
       "      <td>0</td>\n",
       "      <td>0</td>\n",
       "      <td>0</td>\n",
       "      <td>0</td>\n",
       "      <td>...</td>\n",
       "      <td>0</td>\n",
       "      <td>0</td>\n",
       "      <td>0</td>\n",
       "      <td>0</td>\n",
       "      <td>0</td>\n",
       "      <td>1</td>\n",
       "      <td>1</td>\n",
       "      <td>0</td>\n",
       "      <td>0</td>\n",
       "      <td>0</td>\n",
       "    </tr>\n",
       "    <tr>\n",
       "      <th>1</th>\n",
       "      <td>0</td>\n",
       "      <td>0</td>\n",
       "      <td>0</td>\n",
       "      <td>0</td>\n",
       "      <td>0</td>\n",
       "      <td>0</td>\n",
       "      <td>0</td>\n",
       "      <td>0</td>\n",
       "      <td>0</td>\n",
       "      <td>0</td>\n",
       "      <td>...</td>\n",
       "      <td>0</td>\n",
       "      <td>0</td>\n",
       "      <td>0</td>\n",
       "      <td>1</td>\n",
       "      <td>0</td>\n",
       "      <td>0</td>\n",
       "      <td>0</td>\n",
       "      <td>1</td>\n",
       "      <td>0</td>\n",
       "      <td>0</td>\n",
       "    </tr>\n",
       "    <tr>\n",
       "      <th>3</th>\n",
       "      <td>0</td>\n",
       "      <td>0</td>\n",
       "      <td>0</td>\n",
       "      <td>0</td>\n",
       "      <td>0</td>\n",
       "      <td>0</td>\n",
       "      <td>0</td>\n",
       "      <td>0</td>\n",
       "      <td>0</td>\n",
       "      <td>0</td>\n",
       "      <td>...</td>\n",
       "      <td>0</td>\n",
       "      <td>1</td>\n",
       "      <td>0</td>\n",
       "      <td>0</td>\n",
       "      <td>0</td>\n",
       "      <td>0</td>\n",
       "      <td>1</td>\n",
       "      <td>0</td>\n",
       "      <td>0</td>\n",
       "      <td>0</td>\n",
       "    </tr>\n",
       "    <tr>\n",
       "      <th>4</th>\n",
       "      <td>0</td>\n",
       "      <td>0</td>\n",
       "      <td>0</td>\n",
       "      <td>0</td>\n",
       "      <td>0</td>\n",
       "      <td>0</td>\n",
       "      <td>0</td>\n",
       "      <td>0</td>\n",
       "      <td>0</td>\n",
       "      <td>0</td>\n",
       "      <td>...</td>\n",
       "      <td>0</td>\n",
       "      <td>0</td>\n",
       "      <td>0</td>\n",
       "      <td>1</td>\n",
       "      <td>0</td>\n",
       "      <td>0</td>\n",
       "      <td>0</td>\n",
       "      <td>1</td>\n",
       "      <td>0</td>\n",
       "      <td>0</td>\n",
       "    </tr>\n",
       "    <tr>\n",
       "      <th>5</th>\n",
       "      <td>0</td>\n",
       "      <td>0</td>\n",
       "      <td>0</td>\n",
       "      <td>0</td>\n",
       "      <td>0</td>\n",
       "      <td>0</td>\n",
       "      <td>0</td>\n",
       "      <td>0</td>\n",
       "      <td>0</td>\n",
       "      <td>0</td>\n",
       "      <td>...</td>\n",
       "      <td>0</td>\n",
       "      <td>0</td>\n",
       "      <td>1</td>\n",
       "      <td>0</td>\n",
       "      <td>0</td>\n",
       "      <td>0</td>\n",
       "      <td>0</td>\n",
       "      <td>0</td>\n",
       "      <td>0</td>\n",
       "      <td>0</td>\n",
       "    </tr>\n",
       "  </tbody>\n",
       "</table>\n",
       "<p>5 rows × 115 columns</p>\n",
       "</div>"
      ],
      "text/plain": [
       "   Breed_american bulldog  Breed_american staffordshire terrier  \\\n",
       "0                       0                                     0   \n",
       "1                       0                                     0   \n",
       "3                       0                                     0   \n",
       "4                       0                                     0   \n",
       "5                       0                                     0   \n",
       "\n",
       "   Breed_anatolian shepherd  Breed_aussie  Breed_australian cattle dog  \\\n",
       "0                         0             0                            0   \n",
       "1                         0             0                            0   \n",
       "3                         0             0                            0   \n",
       "4                         0             0                            0   \n",
       "5                         0             0                            0   \n",
       "\n",
       "   Breed_basenji  Breed_basset hound  Breed_beagle  Breed_beagle   \\\n",
       "0              0                   0             0              0   \n",
       "1              0                   0             0              0   \n",
       "3              0                   0             0              0   \n",
       "4              0                   0             0              0   \n",
       "5              0                   0             0              0   \n",
       "\n",
       "   Breed_beagle    ...  Color_Merle  Color_Multicolor  Color_Red  Color_Tan  \\\n",
       "0               0  ...            0                 0          0          0   \n",
       "1               0  ...            0                 0          0          1   \n",
       "3               0  ...            0                 1          0          0   \n",
       "4               0  ...            0                 0          0          1   \n",
       "5               0  ...            0                 0          1          0   \n",
       "\n",
       "   Color_White  Color_Yellow  Size_Medium  Size_Small  Size_X Large  \\\n",
       "0            0             1            1           0             0   \n",
       "1            0             0            0           1             0   \n",
       "3            0             0            1           0             0   \n",
       "4            0             0            0           1             0   \n",
       "5            0             0            0           0             0   \n",
       "\n",
       "   Heartworm Positive_Y  \n",
       "0                     0  \n",
       "1                     0  \n",
       "3                     0  \n",
       "4                     0  \n",
       "5                     0  \n",
       "\n",
       "[5 rows x 115 columns]"
      ]
     },
     "execution_count": 174,
     "metadata": {},
     "output_type": "execute_result"
    }
   ],
   "source": [
    "X.head()"
   ]
  },
  {
   "cell_type": "code",
   "execution_count": 175,
   "metadata": {},
   "outputs": [],
   "source": [
    "# Shuffle the examples\n",
    "X = X.reindex(np.random.permutation(X.index))"
   ]
  },
  {
   "cell_type": "code",
   "execution_count": 176,
   "metadata": {},
   "outputs": [
    {
     "name": "stdout",
     "output_type": "stream",
     "text": [
      "(2384, 115) (2384,)\n",
      "(597, 115) (597,)\n"
     ]
    }
   ],
   "source": [
    "#Split training and test sets\n",
    "from sklearn import linear_model\n",
    "from sklearn.model_selection import train_test_split\n",
    "\n",
    "X_train, X_test, Y_train, Y_test = train_test_split(X, Y, test_size = .20, random_state = 40)\n",
    "\n",
    "print(X_train.shape, Y_train.shape)\n",
    "print(X_test.shape, Y_test.shape)"
   ]
  },
  {
   "cell_type": "code",
   "execution_count": 177,
   "metadata": {},
   "outputs": [
    {
     "data": {
      "text/plain": [
       "LinearRegression(copy_X=True, fit_intercept=True, n_jobs=None, normalize=False)"
      ]
     },
     "execution_count": 177,
     "metadata": {},
     "output_type": "execute_result"
    }
   ],
   "source": [
    "#Fit model on training data\n",
    "model = linear_model.LinearRegression()\n",
    "\n",
    "model.fit(X_train, Y_train)\n"
   ]
  },
  {
   "cell_type": "code",
   "execution_count": 178,
   "metadata": {},
   "outputs": [],
   "source": [
    "y_predictions = model.predict(X_test)"
   ]
  },
  {
   "cell_type": "code",
   "execution_count": 179,
   "metadata": {},
   "outputs": [
    {
     "name": "stdout",
     "output_type": "stream",
     "text": [
      "-8.60442780388269e+21\n"
     ]
    }
   ],
   "source": [
    "#Print model accuracy score\n",
    "print(model.score(X_test, Y_test))"
   ]
  },
  {
   "cell_type": "code",
   "execution_count": 180,
   "metadata": {},
   "outputs": [
    {
     "data": {
      "text/plain": [
       "Text(0, 0.5, 'Predictions')"
      ]
     },
     "execution_count": 180,
     "metadata": {},
     "output_type": "execute_result"
    },
    {
     "data": {
      "image/png": "[encoded data removed]",
      "text/plain": [
       "<Figure size 432x288 with 1 Axes>"
      ]
     },
     "metadata": {
      "needs_background": "light"
     },
     "output_type": "display_data"
    }
   ],
   "source": [
    "plt.scatter(Y_test, y_predictions)\n",
    "plt.xlabel('True Values')\n",
    "plt.ylabel('Predictions')"
   ]
  },
  {
   "cell_type": "code",
   "execution_count": 181,
   "metadata": {},
   "outputs": [
    {
     "data": {
      "text/plain": [
       "1.7698409113320397e+25"
      ]
     },
     "execution_count": 181,
     "metadata": {},
     "output_type": "execute_result"
    }
   ],
   "source": [
    "from sklearn.metrics import mean_squared_error\n",
    "\n",
    "regression_model_mse = mean_squared_error(y_predictions, Y_test)\n",
    "regression_model_mse"
   ]
  },
  {
   "cell_type": "code",
   "execution_count": 192,
   "metadata": {},
   "outputs": [
    {
     "data": {
      "text/plain": [
       "4206947719347.175"
      ]
     },
     "execution_count": 192,
     "metadata": {},
     "output_type": "execute_result"
    }
   ],
   "source": [
    "import math\n",
    "\n",
    "rmse = math.sqrt(regression_model_mse)\n",
    "rmse"
   ]
  },
  {
   "cell_type": "code",
   "execution_count": null,
   "metadata": {},
   "outputs": [],
   "source": []
  },
  {
   "cell_type": "code",
   "execution_count": 66,
   "metadata": {},
   "outputs": [],
   "source": [
    "# Using TensorFlow-Keras API"
   ]
  },
  {
   "cell_type": "code",
   "execution_count": 183,
   "metadata": {},
   "outputs": [],
   "source": [
    "import tensorflow as tf\n",
    "from tensorflow.keras import layers\n"
   ]
  },
  {
   "cell_type": "code",
   "execution_count": 184,
   "metadata": {},
   "outputs": [
    {
     "name": "stdout",
     "output_type": "stream",
     "text": [
      "Defined the build_model and train_model functions.\n"
     ]
    }
   ],
   "source": [
    "#@title Define the functions that build and train a model\n",
    "def build_model(my_learning_rate):\n",
    "  \"\"\"Create and compile a simple linear regression model.\"\"\"\n",
    "  # Most simple tf.keras models are sequential.\n",
    "  model = tf.keras.models.Sequential()\n",
    "\n",
    "  # Add one linear layer to the model to yield a simple linear regressor.\n",
    "  model.add(tf.keras.layers.Dense(units=1, input_shape=(115,)))\n",
    "\n",
    "  # Compile the model topography into code that TensorFlow can efficiently\n",
    "  # execute. Configure training to minimize the model's mean squared error. \n",
    "  model.compile(optimizer=tf.keras.optimizers.RMSprop(lr=my_learning_rate),\n",
    "                loss=\"mean_squared_error\",\n",
    "                metrics=[tf.keras.metrics.RootMeanSquaredError(), 'accuracy'])\n",
    "\n",
    "  return model               \n",
    "\n",
    "\n",
    "def train_model(model, X, Y, my_epochs, \n",
    "                my_batch_size=None, my_validation_split=0.1):\n",
    "  \"\"\"Feed a dataset into the model in order to train it.\"\"\"\n",
    "\n",
    "  history = model.fit(x=X,\n",
    "                      y=Y,\n",
    "                      batch_size=my_batch_size,\n",
    "                      epochs=my_epochs,\n",
    "                      validation_split=my_validation_split)\n",
    "\n",
    "#   # Gather the model's trained weight and bias.\n",
    "#   trained_weight = model.get_weights()[0]\n",
    "#   trained_bias = model.get_weights()[1]\n",
    "\n",
    "  # The list of epochs is stored separately from the \n",
    "  # rest of history.\n",
    "  epochs = history.epoch\n",
    "  \n",
    "  # Isolate the root mean squared error for each epoch.\n",
    "  hist = pd.DataFrame(history.history)\n",
    "  rmse = hist[\"root_mean_squared_error\"]\n",
    "\n",
    "  return epochs, rmse, history.history   \n",
    "\n",
    "print(\"Defined the build_model and train_model functions.\")"
   ]
  },
  {
   "cell_type": "code",
   "execution_count": 185,
   "metadata": {},
   "outputs": [
    {
     "name": "stdout",
     "output_type": "stream",
     "text": [
      "Defined the plot_the_loss_curve function.\n"
     ]
    }
   ],
   "source": [
    "#@title Define the plotting function\n",
    "\n",
    "def plot_the_loss_curve(epochs, mae_training, mae_validation):\n",
    "  \"\"\"Plot a curve of loss vs. epoch.\"\"\"\n",
    "\n",
    "  plt.figure()\n",
    "  plt.xlabel(\"Epoch\")\n",
    "  plt.ylabel(\"Root Mean Squared Error\")\n",
    "\n",
    "  plt.plot(epochs[1:], mae_training[1:], label=\"Training Loss\")\n",
    "  plt.plot(epochs[1:], mae_validation[1:], label=\"Validation Loss\")\n",
    "  plt.legend()\n",
    "  \n",
    "  # We're not going to plot the first epoch, since the loss on the first epoch\n",
    "  # is often substantially greater than the loss for other epochs.\n",
    "  merged_mae_lists = mae_training[1:] + mae_validation[1:]\n",
    "  highest_loss = max(merged_mae_lists)\n",
    "  lowest_loss = min(merged_mae_lists)\n",
    "  delta = highest_loss - lowest_loss\n",
    "  print(delta)\n",
    "\n",
    "  top_of_y_axis = highest_loss + (delta * 0.05)\n",
    "  bottom_of_y_axis = lowest_loss - (delta * 0.05)\n",
    "   \n",
    "  plt.ylim([bottom_of_y_axis, top_of_y_axis])\n",
    "  plt.show()  \n",
    "\n",
    "print(\"Defined the plot_the_loss_curve function.\")"
   ]
  },
  {
   "cell_type": "code",
   "execution_count": 187,
   "metadata": {},
   "outputs": [
    {
     "name": "stdout",
     "output_type": "stream",
     "text": [
      "(2981, 115)\n",
      "WARNING:tensorflow:Falling back from v2 loop because of error: Failed to find data adapter that can handle input: <class 'pandas.core.frame.DataFrame'>, <class 'NoneType'>\n",
      "Train on 2086 samples, validate on 895 samples\n",
      "Epoch 1/30\n",
      "2086/2086 [==============================] - 1s 267us/sample - loss: 3357.6955 - root_mean_squared_error: 57.9456 - accuracy: 0.0014 - val_loss: 3608.3389 - val_root_mean_squared_error: 60.0694 - val_accuracy: 0.0045\n",
      "Epoch 2/30\n",
      "2086/2086 [==============================] - 0s 21us/sample - loss: 2792.3705 - root_mean_squared_error: 52.8429 - accuracy: 0.0014 - val_loss: 3122.1818 - val_root_mean_squared_error: 55.8765 - val_accuracy: 0.0045\n",
      "Epoch 3/30\n",
      "2086/2086 [==============================] - 0s 26us/sample - loss: 2445.3050 - root_mean_squared_error: 49.4500 - accuracy: 0.0014 - val_loss: 2789.0728 - val_root_mean_squared_error: 52.8117 - val_accuracy: 0.0045\n",
      "Epoch 4/30\n",
      "2086/2086 [==============================] - 0s 26us/sample - loss: 2240.6669 - root_mean_squared_error: 47.3357 - accuracy: 0.0014 - val_loss: 2596.6549 - val_root_mean_squared_error: 50.9574 - val_accuracy: 0.0045\n",
      "Epoch 5/30\n",
      "2086/2086 [==============================] - 0s 26us/sample - loss: 2134.3226 - root_mean_squared_error: 46.1987 - accuracy: 0.0014 - val_loss: 2490.1891 - val_root_mean_squared_error: 49.9018 - val_accuracy: 0.0045\n",
      "Epoch 6/30\n",
      "2086/2086 [==============================] - 0s 24us/sample - loss: 2085.7000 - root_mean_squared_error: 45.6695 - accuracy: 0.0014 - val_loss: 2436.4723 - val_root_mean_squared_error: 49.3606 - val_accuracy: 0.0045\n",
      "Epoch 7/30\n",
      "2086/2086 [==============================] - 0s 24us/sample - loss: 2062.7796 - root_mean_squared_error: 45.4178 - accuracy: 0.0014 - val_loss: 2411.1285 - val_root_mean_squared_error: 49.1032 - val_accuracy: 0.0045\n",
      "Epoch 8/30\n",
      "2086/2086 [==============================] - 0s 31us/sample - loss: 2048.6577 - root_mean_squared_error: 45.2621 - accuracy: 0.0014 - val_loss: 2399.8985 - val_root_mean_squared_error: 48.9888 - val_accuracy: 0.0045\n",
      "Epoch 9/30\n",
      "2086/2086 [==============================] - 0s 31us/sample - loss: 2036.0405 - root_mean_squared_error: 45.1225 - accuracy: 0.0014 - val_loss: 2384.9303 - val_root_mean_squared_error: 48.8357 - val_accuracy: 0.0045\n",
      "Epoch 10/30\n",
      "2086/2086 [==============================] - 0s 29us/sample - loss: 2025.8385 - root_mean_squared_error: 45.0093 - accuracy: 0.0014 - val_loss: 2385.1925 - val_root_mean_squared_error: 48.8384 - val_accuracy: 0.0045\n",
      "Epoch 11/30\n",
      "2086/2086 [==============================] - 0s 25us/sample - loss: 2018.9719 - root_mean_squared_error: 44.9330 - accuracy: 0.0014 - val_loss: 2373.3244 - val_root_mean_squared_error: 48.7168 - val_accuracy: 0.0045\n",
      "Epoch 12/30\n",
      "2086/2086 [==============================] - 0s 24us/sample - loss: 2011.1915 - root_mean_squared_error: 44.8463 - accuracy: 0.0014 - val_loss: 2367.1149 - val_root_mean_squared_error: 48.6530 - val_accuracy: 0.0045\n",
      "Epoch 13/30\n",
      "2086/2086 [==============================] - 0s 33us/sample - loss: 2005.2477 - root_mean_squared_error: 44.7800 - accuracy: 0.0014 - val_loss: 2364.6642 - val_root_mean_squared_error: 48.6278 - val_accuracy: 0.0045\n",
      "Epoch 14/30\n",
      "2086/2086 [==============================] - 0s 23us/sample - loss: 2000.7476 - root_mean_squared_error: 44.7297 - accuracy: 0.0014 - val_loss: 2360.0289 - val_root_mean_squared_error: 48.5801 - val_accuracy: 0.0045\n",
      "Epoch 15/30\n",
      "2086/2086 [==============================] - 0s 30us/sample - loss: 1995.1098 - root_mean_squared_error: 44.6666 - accuracy: 0.0014 - val_loss: 2352.6049 - val_root_mean_squared_error: 48.5037 - val_accuracy: 0.0045\n",
      "Epoch 16/30\n",
      "2086/2086 [==============================] - 0s 21us/sample - loss: 1991.3788 - root_mean_squared_error: 44.6249 - accuracy: 0.0014 - val_loss: 2351.5771 - val_root_mean_squared_error: 48.4931 - val_accuracy: 0.0045\n",
      "Epoch 17/30\n",
      "2086/2086 [==============================] - 0s 18us/sample - loss: 1987.2356 - root_mean_squared_error: 44.5784 - accuracy: 0.0014 - val_loss: 2345.7958 - val_root_mean_squared_error: 48.4334 - val_accuracy: 0.0045\n",
      "Epoch 18/30\n",
      "2086/2086 [==============================] - 0s 24us/sample - loss: 1983.7652 - root_mean_squared_error: 44.5395 - accuracy: 0.0014 - val_loss: 2347.7343 - val_root_mean_squared_error: 48.4534 - val_accuracy: 0.0045\n",
      "Epoch 19/30\n",
      "2086/2086 [==============================] - 0s 29us/sample - loss: 1981.4749 - root_mean_squared_error: 44.5138 - accuracy: 0.0014 - val_loss: 2342.0917 - val_root_mean_squared_error: 48.3952 - val_accuracy: 0.0045\n",
      "Epoch 20/30\n",
      "2086/2086 [==============================] - 0s 25us/sample - loss: 1977.7277 - root_mean_squared_error: 44.4716 - accuracy: 0.0014 - val_loss: 2340.8281 - val_root_mean_squared_error: 48.3821 - val_accuracy: 0.0045\n",
      "Epoch 21/30\n",
      "2086/2086 [==============================] - 0s 37us/sample - loss: 1974.7970 - root_mean_squared_error: 44.4387 - accuracy: 0.0014 - val_loss: 2342.7751 - val_root_mean_squared_error: 48.4022 - val_accuracy: 0.0045\n",
      "Epoch 22/30\n",
      "2086/2086 [==============================] - 0s 26us/sample - loss: 1973.3735 - root_mean_squared_error: 44.4227 - accuracy: 0.0014 - val_loss: 2339.3902 - val_root_mean_squared_error: 48.3672 - val_accuracy: 0.0045\n",
      "Epoch 23/30\n",
      "2086/2086 [==============================] - 0s 34us/sample - loss: 1970.7322 - root_mean_squared_error: 44.3929 - accuracy: 0.0014 - val_loss: 2335.3405 - val_root_mean_squared_error: 48.3254 - val_accuracy: 0.0045\n",
      "Epoch 24/30\n",
      "2086/2086 [==============================] - 0s 27us/sample - loss: 1968.2433 - root_mean_squared_error: 44.3649 - accuracy: 0.0014 - val_loss: 2335.8153 - val_root_mean_squared_error: 48.3303 - val_accuracy: 0.0045\n",
      "Epoch 25/30\n",
      "2086/2086 [==============================] - 0s 30us/sample - loss: 1966.1299 - root_mean_squared_error: 44.3411 - accuracy: 0.0014 - val_loss: 2334.9261 - val_root_mean_squared_error: 48.3211 - val_accuracy: 0.0045\n",
      "Epoch 26/30\n",
      "2086/2086 [==============================] - 0s 32us/sample - loss: 1964.8729 - root_mean_squared_error: 44.3269 - accuracy: 0.0014 - val_loss: 2330.5391 - val_root_mean_squared_error: 48.2757 - val_accuracy: 0.0045\n",
      "Epoch 27/30\n",
      "2086/2086 [==============================] - 0s 28us/sample - loss: 1962.5489 - root_mean_squared_error: 44.3007 - accuracy: 0.0014 - val_loss: 2332.0694 - val_root_mean_squared_error: 48.2915 - val_accuracy: 0.0045\n",
      "Epoch 28/30\n",
      "2086/2086 [==============================] - 0s 33us/sample - loss: 1961.2116 - root_mean_squared_error: 44.2856 - accuracy: 0.0014 - val_loss: 2329.1115 - val_root_mean_squared_error: 48.2609 - val_accuracy: 0.0045\n",
      "Epoch 29/30\n",
      "2086/2086 [==============================] - 0s 31us/sample - loss: 1959.4816 - root_mean_squared_error: 44.2660 - accuracy: 0.0014 - val_loss: 2330.6447 - val_root_mean_squared_error: 48.2767 - val_accuracy: 0.0045\n",
      "Epoch 30/30\n",
      "2086/2086 [==============================] - 0s 26us/sample - loss: 1957.4507 - root_mean_squared_error: 44.2431 - accuracy: 0.0014 - val_loss: 2331.9396 - val_root_mean_squared_error: 48.2902 - val_accuracy: 0.0045\n",
      "11.633396\n"
     ]
    },
    {
     "data": {
      "image/png": "[encoded data removed]",
      "text/plain": [
       "<Figure size 432x288 with 1 Axes>"
      ]
     },
     "metadata": {
      "needs_background": "light"
     },
     "output_type": "display_data"
    }
   ],
   "source": [
    "# The following variables are the hyperparameters.\n",
    "learning_rate = 0.09\n",
    "epochs = 30\n",
    "batch_size = 100\n",
    "\n",
    "# Split the original training set into a reduced training set and a\n",
    "# validation set. \n",
    "validation_split=0.3\n",
    "\n",
    "# Shuffle the Data\n",
    "shuffled_dogs_df = dogs_filtered.reindex(np.random.permutation(dogs_filtered.index))\n",
    "\n",
    "# Identify the feature and the label.\n",
    "features = ['Breed', 'Sex', 'Age Group When Rescued', 'Color', 'Size', 'Heartworm Positive']  # the median income on a specific city block.\n",
    "label = 'Days in Rescue' \n",
    "\n",
    "X_2 = shuffled_dogs_df[features]\n",
    "Y_2 = shuffled_dogs_df[label]\n",
    "\n",
    "# Discard any pre-existing version of the model.\n",
    "my_model = None\n",
    "\n",
    "# Invoke the functions to build and train the model.\n",
    "my_model = build_model(learning_rate)\n",
    "\n",
    "\n",
    "X_2 = pd.get_dummies(data=X_2, drop_first=True)\n",
    "print(X_2.shape)\n",
    "\n",
    "epochs, rmse, history = train_model(my_model, X_2, Y_2, epochs, batch_size, \n",
    "                                    validation_split)\n",
    "\n",
    "plot_the_loss_curve(epochs, history[\"root_mean_squared_error\"], \n",
    "                    history[\"val_root_mean_squared_error\"])"
   ]
  },
  {
   "cell_type": "code",
   "execution_count": null,
   "metadata": {},
   "outputs": [],
   "source": []
  },
  {
   "cell_type": "code",
   "execution_count": 188,
   "metadata": {},
   "outputs": [
    {
     "data": {
      "text/plain": [
       "[array([[-4.42266178e+00],\n",
       "        [ 1.14991703e+01],\n",
       "        [-6.70754910e+00],\n",
       "        [-1.40683727e+01],\n",
       "        [-1.13522949e+01],\n",
       "        [ 7.64436054e+00],\n",
       "        [-1.81642380e+01],\n",
       "        [ 6.82703638e+00],\n",
       "        [ 7.81786537e+00],\n",
       "        [ 4.20782566e-01],\n",
       "        [ 2.69397211e+00],\n",
       "        [-9.84660339e+00],\n",
       "        [-1.83757648e+01],\n",
       "        [-3.47741413e+00],\n",
       "        [ 9.00636613e-02],\n",
       "        [ 2.95872068e+00],\n",
       "        [ 1.31180601e+01],\n",
       "        [-1.02368057e-01],\n",
       "        [ 3.66576314e+00],\n",
       "        [-6.59290123e+00],\n",
       "        [ 5.32321119e+00],\n",
       "        [-9.17876661e-02],\n",
       "        [-2.40768647e+00],\n",
       "        [-3.41773057e+00],\n",
       "        [ 1.74906712e+01],\n",
       "        [ 5.42317343e+00],\n",
       "        [-9.14427376e+00],\n",
       "        [-9.88844681e+00],\n",
       "        [ 8.15066147e+00],\n",
       "        [-6.29338264e+00],\n",
       "        [-7.10695553e+00],\n",
       "        [-2.68471265e+00],\n",
       "        [-4.47700918e-03],\n",
       "        [-5.14448881e+00],\n",
       "        [-4.53094959e+00],\n",
       "        [-1.01958483e-01],\n",
       "        [ 3.60640359e+00],\n",
       "        [-7.07147884e+00],\n",
       "        [ 9.83264828e+00],\n",
       "        [ 3.55061889e-02],\n",
       "        [-2.16070580e+00],\n",
       "        [ 3.08873010e+00],\n",
       "        [ 2.83503819e+00],\n",
       "        [ 5.23232317e+00],\n",
       "        [-5.77693844e+00],\n",
       "        [-4.41682482e+00],\n",
       "        [ 1.42711782e+01],\n",
       "        [-1.03414267e-01],\n",
       "        [ 3.33208919e+00],\n",
       "        [-2.59733409e-01],\n",
       "        [-6.02060175e+00],\n",
       "        [ 8.14802742e+00],\n",
       "        [-1.23380566e+01],\n",
       "        [-5.83529472e-02],\n",
       "        [ 3.39662313e+00],\n",
       "        [ 4.89744902e+00],\n",
       "        [-1.08151588e+01],\n",
       "        [-2.12428617e+00],\n",
       "        [ 3.06605887e+00],\n",
       "        [-1.07336305e-01],\n",
       "        [-7.14911747e+00],\n",
       "        [ 4.29054356e+00],\n",
       "        [ 3.23084664e+00],\n",
       "        [ 1.95704684e-01],\n",
       "        [ 1.10109510e+01],\n",
       "        [-1.13166857e+01],\n",
       "        [ 6.65557241e+00],\n",
       "        [-3.34880877e+00],\n",
       "        [ 1.66055012e+01],\n",
       "        [-1.32082987e+01],\n",
       "        [ 1.22614946e+01],\n",
       "        [-7.77476740e+00],\n",
       "        [-1.25039463e+01],\n",
       "        [-3.93006182e+00],\n",
       "        [-7.30820894e+00],\n",
       "        [-2.36416340e+00],\n",
       "        [-3.00054026e+00],\n",
       "        [ 7.14271259e+00],\n",
       "        [ 3.79743171e+00],\n",
       "        [ 7.51132631e+00],\n",
       "        [ 1.44312086e+01],\n",
       "        [-7.79057550e+00],\n",
       "        [-7.71284866e+00],\n",
       "        [-9.92520094e-01],\n",
       "        [ 9.24059486e+00],\n",
       "        [-5.18578815e+00],\n",
       "        [-1.16742361e+00],\n",
       "        [ 5.73427153e+00],\n",
       "        [ 4.95649576e-02],\n",
       "        [ 1.27380457e+01],\n",
       "        [ 8.03299141e+00],\n",
       "        [ 6.35535717e-02],\n",
       "        [ 7.63249350e+00],\n",
       "        [-1.32064056e+01],\n",
       "        [ 1.94884270e-01],\n",
       "        [-2.97429824e+00],\n",
       "        [-9.66008949e+00],\n",
       "        [ 1.86590862e+00],\n",
       "        [ 1.17620027e+00],\n",
       "        [ 7.64432144e+00],\n",
       "        [ 3.00085616e+00],\n",
       "        [ 4.56388617e+00],\n",
       "        [ 4.00018311e+00],\n",
       "        [ 6.41874790e+00],\n",
       "        [-2.18887663e+00],\n",
       "        [ 3.42086816e+00],\n",
       "        [ 4.74204636e+00],\n",
       "        [ 4.66431570e+00],\n",
       "        [ 1.09363384e+01],\n",
       "        [ 1.38800917e+01],\n",
       "        [-6.94644809e-01],\n",
       "        [ 1.37675123e+01],\n",
       "        [ 3.73881650e+00],\n",
       "        [-1.48191423e+01],\n",
       "        [ 1.53685141e+01]], dtype=float32),\n",
       " array([19.514606], dtype=float32)]"
      ]
     },
     "execution_count": 188,
     "metadata": {},
     "output_type": "execute_result"
    }
   ],
   "source": [
    "my_model.get_weights()"
   ]
  },
  {
   "cell_type": "code",
   "execution_count": 189,
   "metadata": {},
   "outputs": [
    {
     "name": "stdout",
     "output_type": "stream",
     "text": [
      "WARNING:tensorflow:Falling back from v2 loop because of error: Failed to find data adapter that can handle input: <class 'pandas.core.frame.DataFrame'>, <class 'NoneType'>\n",
      "597/597 [==============================] - 0s 9us/sample - loss: 2156.5750 - root_mean_squared_error: 46.4389 - accuracy: 0.0050\n"
     ]
    }
   ],
   "source": [
    "results = my_model.evaluate(X_test, Y_test, batch_size=batch_size)"
   ]
  },
  {
   "cell_type": "code",
   "execution_count": 190,
   "metadata": {},
   "outputs": [
    {
     "data": {
      "text/plain": [
       "[2156.5749802070245, 46.43894, 0.0050251256]"
      ]
     },
     "execution_count": 190,
     "metadata": {},
     "output_type": "execute_result"
    }
   ],
   "source": [
    "results"
   ]
  },
  {
   "cell_type": "code",
   "execution_count": null,
   "metadata": {},
   "outputs": [],
   "source": []
  },
  {
   "cell_type": "code",
   "execution_count": null,
   "metadata": {},
   "outputs": [],
   "source": []
  }
 ],
 "metadata": {
  "kernelspec": {
   "display_name": "Python 3",
   "language": "python",
   "name": "python3"
  },
  "language_info": {
   "codemirror_mode": {
    "name": "ipython",
    "version": 3
   },
   "file_extension": ".py",
   "mimetype": "text/x-python",
   "name": "python",
   "nbconvert_exporter": "python",
   "pygments_lexer": "ipython3",
   "version": "3.7.6"
  }
 },
 "nbformat": 4,
 "nbformat_minor": 2
}
