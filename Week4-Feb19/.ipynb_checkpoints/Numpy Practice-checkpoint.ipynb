{
 "cells": [
  {
   "cell_type": "markdown",
   "metadata": {},
   "source": [
    "# **Week 4 Python Practice - Numpy Arrays**#\n",
    "\n",
    "Let's do some simple numpy practice. In this notebook, you should complete the following goals:\n",
    " - Create a numpy array with 20 random numbers \n",
    "      - The numbers must be integers\n",
    "      - All numbers should be between 0 and 100\n",
    " - Print the highest and lowest number in your array\n",
    " - Make a second array from all the even numbers in your first array\n",
    " - Print how many even numbers there were\n",
    " - Create a third array of all 1s that is the same size of your even number array\n",
    " - Add your ones array to your even number array\n",
    " - Confirm that the result is the same size as your even array and that all numbers are now odd"
   ]
  },
  {
   "cell_type": "code",
   "execution_count": 1,
   "metadata": {},
   "outputs": [],
   "source": [
    "# First, you should import the numpy library. By convention, the numpy library is called np \n",
    "\n",
    "import numpy as np"
   ]
  },
  {
   "cell_type": "code",
   "execution_count": 2,
   "metadata": {},
   "outputs": [
    {
     "name": "stdout",
     "output_type": "stream",
     "text": [
      "[61 62 12 99 73 65 64 29 40 98 46 91 59 61 82  7 86 57 34 36]\n"
     ]
    }
   ],
   "source": [
    "# Create your random number array. Remember that all numbers must be integers, and should be in the range 0-100\n",
    "\n",
    "array = np.random.randint(100, size=20)\n",
    "print(array)"
   ]
  },
  {
   "cell_type": "code",
   "execution_count": 6,
   "metadata": {},
   "outputs": [
    {
     "data": {
      "text/plain": [
       "99"
      ]
     },
     "execution_count": 6,
     "metadata": {},
     "output_type": "execute_result"
    }
   ],
   "source": [
    "# Print the highest and lowest number in your array\n",
    "\n",
    "np.max(array)"
   ]
  },
  {
   "cell_type": "code",
   "execution_count": 20,
   "metadata": {},
   "outputs": [
    {
     "name": "stdout",
     "output_type": "stream",
     "text": [
      "[62 12 64 40 98 46 82 86 34 36]\n"
     ]
    }
   ],
   "source": [
    "# Make a second array that contains all the even numbers in your first array\n",
    "\n",
    "# even_array = np.where(array % 2 == 0)\n",
    "# print(even_array)\n",
    "\n",
    "# even_array = array[[n % 2 == 0 for n in array]]\n",
    "\n",
    "even_array = array[array % 2 == 0]\n",
    "\n",
    "\n",
    "print(even_array)"
   ]
  },
  {
   "cell_type": "code",
   "execution_count": 26,
   "metadata": {},
   "outputs": [
    {
     "name": "stdout",
     "output_type": "stream",
     "text": [
      "10\n"
     ]
    }
   ],
   "source": [
    "# Print how many even numbers there were\n",
    "\n",
    "even_array_len = even_array.size\n",
    "print(even_array_len)\n"
   ]
  },
  {
   "cell_type": "code",
   "execution_count": 15,
   "metadata": {},
   "outputs": [
    {
     "data": {
      "text/plain": [
       "array([1, 1, 1, 1, 1, 1, 1, 1, 1, 1])"
      ]
     },
     "execution_count": 15,
     "metadata": {},
     "output_type": "execute_result"
    }
   ],
   "source": [
    "# Create a third array of all 1s. All values should equal 1, and it should be the same size as your even number array\n",
    "\n",
    "# ?np.ones\n",
    "\n",
    "ones_array = np.ones(even_array_len, dtype=int)\n",
    "ones_array"
   ]
  },
  {
   "cell_type": "code",
   "execution_count": 12,
   "metadata": {},
   "outputs": [
    {
     "data": {
      "text/plain": [
       "array([63, 13, 65, 41, 99, 47, 83, 87, 35, 37])"
      ]
     },
     "execution_count": 12,
     "metadata": {},
     "output_type": "execute_result"
    }
   ],
   "source": [
    "# Add your ones array to your even number array\n",
    "\n",
    "sum_array = even_array + ones_array\n",
    "\n",
    "sum_array"
   ]
  },
  {
   "cell_type": "code",
   "execution_count": 13,
   "metadata": {},
   "outputs": [
    {
     "name": "stdout",
     "output_type": "stream",
     "text": [
      "True\n",
      "[ True  True  True  True  True  True  True  True  True  True]\n"
     ]
    }
   ],
   "source": [
    "# Confirm that the result is the same size as your even array, and that all numbers are now odd.\n",
    "\n",
    "print(len(sum_array) == len(even_array))\n",
    "\n",
    "bool_arr = sum_array % 2 != 0\n",
    "\n",
    "print(bool_arr)"
   ]
  },
  {
   "cell_type": "code",
   "execution_count": null,
   "metadata": {},
   "outputs": [],
   "source": []
  }
 ],
 "metadata": {
  "celltoolbar": "Raw Cell Format",
  "kernelspec": {
   "display_name": "Python 3",
   "language": "python",
   "name": "python3"
  },
  "language_info": {
   "codemirror_mode": {
    "name": "ipython",
    "version": 3
   },
   "file_extension": ".py",
   "mimetype": "text/x-python",
   "name": "python",
   "nbconvert_exporter": "python",
   "pygments_lexer": "ipython3",
   "version": "3.7.4"
  }
 },
 "nbformat": 4,
 "nbformat_minor": 4
}
