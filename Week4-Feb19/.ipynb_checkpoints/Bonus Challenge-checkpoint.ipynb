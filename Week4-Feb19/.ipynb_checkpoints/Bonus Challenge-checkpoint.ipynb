{
 "cells": [
  {
   "cell_type": "markdown",
   "metadata": {},
   "source": [
    "# **Week 4 Python Practice - Bonus Challenge**#\n",
    "\n",
    "Here's a bonus challenge if you have time. There are 12 data scientists that work for Big Data Corp. Four of them have just joined the team as LaunchCode apprentices. To build camaraderie, the team decides to have a mini data hackathon. They'll divide themselves into 3 teams of 4 people. Because they are data scientists, they want a python program that will randomly assign people to the three teams. In the interest of fairness, they want to make sure no team has more than 2 apprentices assigned to it.\n",
    "\n",
    "Write a program that assigns the following team members to three teams. The Big Data Corp data scientists will want to run your code and be sure that they do not get a result that has too many apprentices on one team, so be sure that never happens!\n",
    "\n",
    "The team members are:\n",
    " - Alice (Apprentice)\n",
    " - Anthony (Apprentice)\n",
    " - Amy (Apprentice)\n",
    " - Andrew (Apprentice)\n",
    " - Bryan\n",
    " - Catherine\n",
    " - David\n",
    " - Ernesto\n",
    " - Fred\n",
    " - Glenda\n",
    " - Hannah\n",
    " - Ilana\n"
   ]
  },
  {
   "cell_type": "code",
   "execution_count": null,
   "metadata": {},
   "outputs": [],
   "source": [
    "# You may approach this problem however you like, as long as teams are random and never have >2 apprentices!"
   ]
  }
 ],
 "metadata": {
  "kernelspec": {
   "display_name": "Environment (conda_anaconda3)",
   "language": "python",
   "name": "conda_anaconda3"
  },
  "language_info": {
   "codemirror_mode": {
    "name": "ipython",
    "version": 3
   },
   "file_extension": ".py",
   "mimetype": "text/x-python",
   "name": "python",
   "nbconvert_exporter": "python",
   "pygments_lexer": "ipython3",
   "version": "3.7.1"
  }
 },
 "nbformat": 4,
 "nbformat_minor": 4
}
