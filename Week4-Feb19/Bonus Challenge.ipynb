{
 "cells": [
  {
   "cell_type": "markdown",
   "metadata": {},
   "source": [
    "# **Week 4 Python Practice - Bonus Challenge**#\n",
    "\n",
    "Here's a bonus challenge if you have time. There are 12 data scientists that work for Big Data Corp. Four of them have just joined the team as LaunchCode apprentices. To build camaraderie, the team decides to have a mini data hackathon. They'll divide themselves into 3 teams of 4 people. Because they are data scientists, they want a python program that will randomly assign people to the three teams. In the interest of fairness, they want to make sure no team has more than 2 apprentices assigned to it.\n",
    "\n",
    "Write a program that assigns the following team members to three teams. The Big Data Corp data scientists will want to run your code and be sure that they do not get a result that has too many apprentices on one team, so be sure that never happens!\n",
    "\n",
    "The team members are:\n",
    " - Alice (Apprentice)\n",
    " - Anthony (Apprentice)\n",
    " - Amy (Apprentice)\n",
    " - Andrew (Apprentice)\n",
    " - Bryan\n",
    " - Catherine\n",
    " - David\n",
    " - Ernesto\n",
    " - Fred\n",
    " - Glenda\n",
    " - Hannah\n",
    " - Ilana\n"
   ]
  },
  {
   "cell_type": "code",
   "execution_count": 9,
   "metadata": {},
   "outputs": [
    {
     "name": "stdout",
     "output_type": "stream",
     "text": [
      "Team 1, room 4NE3: \n",
      "Tom\n",
      "Sherri\n",
      "Valorie\n",
      "Matt\n",
      "\n",
      "\n",
      "Team 2, room 4SW5: \n",
      "Ian\n",
      "Kelly\n",
      "Pat\n",
      "Maggie\n",
      "\n",
      "\n",
      "Team 3, room 4SE3: \n",
      "Nick\n",
      "Niki\n",
      "Michelle\n",
      "Emily\n",
      "\n",
      "\n",
      "Thanks for playing! Discuss team names and lunchtime!\n"
     ]
    }
   ],
   "source": [
    "# You may approach this problem however you like, as long as teams are random and never have >2 apprentices!\n",
    "\n",
    "import random\n",
    "def shuffle_list(hashcoders):\n",
    "    random.shuffle(hashcoders)\n",
    "    teams = []\n",
    "    teams.append(hashcoders[0:4])\n",
    "    teams.append(hashcoders[4:8])\n",
    "    teams.append(hashcoders[8:])\n",
    "    return teams\n",
    "def print_names(team_list):\n",
    "    for name in team_list:\n",
    "        print(name[0])\n",
    "    print('\\n')\n",
    "# create a list of all participants\n",
    "hashcoders = [['Emily', 1],\n",
    "                ['Ian', 0],\n",
    "                ['Kelly', 0],\n",
    "                ['Maggie', 1],\n",
    "                ['Matt', 0],\n",
    "                ['Michelle', 0],\n",
    "                ['Nick', 0],\n",
    "                ['Niki', 1],\n",
    "                ['Pat', 0],\n",
    "                ['Sherri', 1],\n",
    "                ['Tom', 0],\n",
    "                ['Valorie', 0]]\n",
    "teams = shuffle_list(hashcoders)\n",
    "# check if any team has >2 apprentices; if so, reshuffle\n",
    "apprentice_check = 0\n",
    "while apprentice_check == 0:\n",
    "    apprentices_total = [] # a list of how many apprentices on each team\n",
    "    for i in teams:\n",
    "        x = 0 # initialize apprentice count at 0\n",
    "        for j in i:\n",
    "            x += j[1] # j[1] is a name's apprentice value, 1 for apprentices\n",
    "        apprentices_total.append(x)\n",
    "    if apprentices_total.count(3) == 0 and apprentices_total.count(4) == 0: \n",
    "        apprentice_check = 1\n",
    "    else:\n",
    "        teams = shuffle_list(hashcoders)\n",
    "print('Team 1, room 4NE3: ')\n",
    "print_names(teams[0])\n",
    "print('Team 2, room 4SW5: ')\n",
    "print_names(teams[1])\n",
    "print('Team 3, room 4SE3: ')\n",
    "print_names(teams[2])\n",
    "print(\"Thanks for playing! Discuss team names and lunchtime!\")"
   ]
  },
  {
   "cell_type": "code",
   "execution_count": 18,
   "metadata": {},
   "outputs": [
    {
     "name": "stdout",
     "output_type": "stream",
     "text": [
      "[['Fred', 'Catherine', 'Ilana'], ['Bryan', 'David', 'Earnesto'], ['Hannah', 'Glenda']]\n",
      "['Andrew', 'Anthony', 'Amy', 'Alice']\n",
      "[['Fred', 'Catherine', 'Ilana', 'Andrew'], ['Bryan', 'David', 'Earnesto', 'Anthony'], ['Hannah', 'Glenda', 'Amy', 'Alice']]\n"
     ]
    }
   ],
   "source": [
    "import random\n",
    "\n",
    "\n",
    "def shuffle_list(hashcoders):\n",
    "    random.shuffle(hashcoders)\n",
    "    teams = []\n",
    "    teams.append(hashcoders[0:3])\n",
    "    teams.append(hashcoders[3:6])\n",
    "    teams.append(hashcoders[6:])\n",
    "    return teams\n",
    "\n",
    "non_appr_list = ['Bryan', 'Catherine', 'David', 'Earnesto', 'Fred', 'Glenda', 'Hannah', 'Ilana']\n",
    "\n",
    "shuffled_non_appr_list = shuffle_list(non_appr_list)\n",
    "\n",
    "print(shuffled_non_appr_list)\n",
    "\n",
    "appr_list = ['Alice', 'Anthony', 'Amy', 'Andrew']\n",
    "random.shuffle(appr_list)\n",
    "print(appr_list)\n",
    "\n",
    "\n",
    "for index, value in enumerate(shuffled_non_appr_list):\n",
    "    value.append(appr_list[index])\n",
    "    \n",
    "    \n",
    "shuffled_non_appr_list[-1].append(appr_list[-1])\n",
    "\n",
    "print(shuffled_non_appr_list)"
   ]
  },
  {
   "cell_type": "code",
   "execution_count": null,
   "metadata": {},
   "outputs": [],
   "source": []
  }
 ],
 "metadata": {
  "kernelspec": {
   "display_name": "Python 3",
   "language": "python",
   "name": "python3"
  },
  "language_info": {
   "codemirror_mode": {
    "name": "ipython",
    "version": 3
   },
   "file_extension": ".py",
   "mimetype": "text/x-python",
   "name": "python",
   "nbconvert_exporter": "python",
   "pygments_lexer": "ipython3",
   "version": "3.7.4"
  }
 },
 "nbformat": 4,
 "nbformat_minor": 4
}
