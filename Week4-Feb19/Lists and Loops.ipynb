{
 "cells": [
  {
   "cell_type": "markdown",
   "metadata": {},
   "source": [
    "# **Week 4 Python Practice - Lists, Types, Loops**#\n",
    "\n",
    "Complete this notebook to get practice with some of the Python concepts you've been studying. You can work together to solve these notebooks - just please make sure everyone is understanding the code, and be sure to complete your own notebook!\n",
    "\n",
    "Here's what you will do in this notebook:\n",
    " - Evaluate some features of a list - how many elements are in it? How can we look at specific values in a list?\n",
    " - Loop through the values in a list and take some actions based on what you find\n",
    " - Do some simple math\n",
    " - Perform the same action on multiple lists"
   ]
  },
  {
   "cell_type": "code",
   "execution_count": 1,
   "metadata": {},
   "outputs": [],
   "source": [
    "# Don't change this block of code\n",
    "practice_list = ['1', '3', '2', '1', '10', '2', '3', '5', '6', '0', '4', '1', '8', '3', '10', '5', '0', '8', '8', '5']"
   ]
  },
  {
   "cell_type": "code",
   "execution_count": 2,
   "metadata": {},
   "outputs": [
    {
     "data": {
      "text/plain": [
       "20"
      ]
     },
     "execution_count": 2,
     "metadata": {},
     "output_type": "execute_result"
    }
   ],
   "source": [
    "# Print how many numbers are in practice_list\n",
    "\n",
    "len(practice_list)"
   ]
  },
  {
   "cell_type": "code",
   "execution_count": 3,
   "metadata": {},
   "outputs": [
    {
     "name": "stdout",
     "output_type": "stream",
     "text": [
      "1\n",
      "5\n",
      "0\n"
     ]
    }
   ],
   "source": [
    "# Print the first, last, and 10th numbers in the list\n",
    "\n",
    "print(practice_list[0])\n",
    "\n",
    "print(practice_list[-1])\n",
    "\n",
    "print(practice_list[9])"
   ]
  },
  {
   "cell_type": "code",
   "execution_count": 7,
   "metadata": {},
   "outputs": [
    {
     "name": "stdout",
     "output_type": "stream",
     "text": [
      "Number 0 in the list is 1\n",
      "Number 1 in the list is 3\n",
      "Number 2 in the list is 2\n",
      "Number 3 in the list is 1\n",
      "Number 4 in the list is 10\n",
      "Number 5 in the list is 2\n",
      "Number 6 in the list is 3\n",
      "Number 7 in the list is 5\n",
      "Number 8 in the list is 6\n",
      "Number 9 in the list is 0\n",
      "Number 10 in the list is 4\n",
      "Number 11 in the list is 1\n",
      "Number 12 in the list is 8\n",
      "Number 13 in the list is 3\n",
      "Number 14 in the list is 10\n",
      "Number 15 in the list is 5\n",
      "Number 16 in the list is 0\n",
      "Number 17 in the list is 8\n",
      "Number 18 in the list is 8\n",
      "Number 19 in the list is 5\n"
     ]
    }
   ],
   "source": [
    "# For every [number] in practice list, print:\n",
    "# 'Number [index] in the list is [number]'\n",
    "# where index is what position it is on the list. For example, \"Number 0 in the list is 1\" \"Number 1 on the list is 3\"\n",
    "# Remember that python is 0 indexed!\n",
    "\n",
    "for index, num in enumerate(practice_list):\n",
    "    print(f'Number {index} in the list is {num}')"
   ]
  },
  {
   "cell_type": "code",
   "execution_count": 22,
   "metadata": {},
   "outputs": [
    {
     "name": "stdout",
     "output_type": "stream",
     "text": [
      "1 is ODD\n",
      "2 is EVEN\n",
      "1 is ODD\n",
      "10 is EVEN\n",
      "2 is EVEN\n",
      "5 is ODD\n",
      "6 is EVEN\n",
      "0 is EVEN\n",
      "4 is EVEN\n",
      "1 is ODD\n",
      "8 is EVEN\n",
      "10 is EVEN\n",
      "5 is ODD\n",
      "0 is EVEN\n",
      "8 is EVEN\n",
      "8 is EVEN\n",
      "5 is ODD\n"
     ]
    }
   ],
   "source": [
    "# For every [number] in practice_list, do the following:\n",
    "# If the number is even, print '[number] is EVEN'\n",
    "# If the number is odd and not divisible by three, print '[number] is ODD'\n",
    "# If the number is odd and divisible by three, print '[number] is WEIRD'\n",
    "\n",
    "for num in practice_list:\n",
    "    number = int(num)\n",
    "    if number % 2 == 0:\n",
    "        print(f'{num} is EVEN')\n",
    "    elif number % 2 != 0 and number % 3 != 0:\n",
    "        print(f'{num} is ODD')\n",
    "    elif number % 2 != 0 and number % 3 != 0: \n",
    "        print(f'{num} is WEIRD')"
   ]
  },
  {
   "cell_type": "code",
   "execution_count": 24,
   "metadata": {},
   "outputs": [
    {
     "name": "stdout",
     "output_type": "stream",
     "text": [
      "1 plus 3 is EVEN\n",
      "10 plus 2 is EVEN\n",
      "3 plus 5 is EVEN\n",
      "6 plus 0 is EVEN\n",
      "0 plus 4 is EVEN\n",
      "0 plus 8 is EVEN\n",
      "8 plus 8 is EVEN\n"
     ]
    }
   ],
   "source": [
    "# For every [number] in practice_list, do the following:\n",
    "# If the number plus the number after it is even, print '[number] plus [number after] is EVEN'\n",
    "# Otherwise print nothing\n",
    "\n",
    "for index, num in enumerate(practice_list):\n",
    "    \n",
    "    if index < len(practice_list)-1 and ( int(practice_list[index]) + int(practice_list[index+1]) ) % 2 == 0:\n",
    "        print(f'{practice_list[index]} plus {practice_list[index+1]} is EVEN')"
   ]
  },
  {
   "cell_type": "markdown",
   "metadata": {},
   "source": [
    "If you've finished the above exercises, nice work. In the next block of code, we will create lists with information about students. The lists will have the following information in this order (all grades are out of 100):\n",
    " - Student name\n",
    " - Science grade\n",
    " - Math grade\n",
    " - English grade\n",
    " - History grade"
   ]
  },
  {
   "cell_type": "code",
   "execution_count": 25,
   "metadata": {},
   "outputs": [],
   "source": [
    "# Don't change this block of code\n",
    "student_1 = ['Erica', 97, 95, 69, 77]\n",
    "student_2 = ['Jim', 70, 89, 83, 70]\n",
    "student_3 = ['Alex', 69, 86, 87, 65]\n",
    "student_4 = ['Lauren', 81, 86, 87, 65]\n",
    "student_5 = ['Dana', 84, 74, 84, 70]"
   ]
  },
  {
   "cell_type": "code",
   "execution_count": 32,
   "metadata": {},
   "outputs": [
    {
     "name": "stdout",
     "output_type": "stream",
     "text": [
      "Erica 84.5\n",
      "Jim 78.0\n",
      "Alex 76.75\n",
      "Lauren 79.75\n",
      "Dana 78.0\n"
     ]
    }
   ],
   "source": [
    "# Print each student's name and average grade\n",
    "\n",
    "students_list = [student_1, student_2, student_3, student_4, student_5]\n",
    "\n",
    "for each_student_list in students_list:\n",
    "    student_avg_grade = sum(each_student_list[1:])/len(each_student_list[1:])\n",
    "    print(each_student_list[0], student_avg_grade)      \n",
    "\n"
   ]
  },
  {
   "cell_type": "code",
   "execution_count": 38,
   "metadata": {},
   "outputs": [
    {
     "name": "stdout",
     "output_type": "stream",
     "text": [
      "Erica : Science\n",
      "Jim : Math\n",
      "Alex : English\n",
      "Lauren : English\n",
      "Dana : Science\n"
     ]
    }
   ],
   "source": [
    "# Print each student's best subject\n",
    "\n",
    "subject_dict = {'0': 'Student_Name', '1': \"Science\", '2': \"Math\", '3': \"English\", '4': \"History\"}\n",
    "\n",
    "# students_list = [student_1, student_2, student_3, student_4, student_5]\n",
    "\n",
    "students_list = [['Erica', 97, 95, 69, 77], ['Jim', 70, 89, 83, 70], ['Alex', 69, 86, 87, 65], ['Lauren', 81, 86, 87, 65], ['Dana', 84, 74, 84, 70]]\n",
    "\n",
    "for each_student_list in students_list:\n",
    "    each_student_name = each_student_list[0]\n",
    "    each_student_scores = each_student_list[1:]\n",
    "    each_student_max_score = max(each_student_scores)\n",
    "    \n",
    "    index_of_max_score = each_student_list.index(each_student_max_score)\n",
    "    print(each_student_name, ':', subject_dict[str(index_of_max_score)])"
   ]
  },
  {
   "cell_type": "code",
   "execution_count": 42,
   "metadata": {},
   "outputs": [
    {
     "name": "stdout",
     "output_type": "stream",
     "text": [
      "Science Avg Score: 80.2\n"
     ]
    }
   ],
   "source": [
    "# Print each subject's average grade\n",
    "\n",
    "total_science_scores = 0\n",
    "\n",
    "for each_student in students_list:\n",
    "    total_science_scores = total_science_scores + each_student[1]\n",
    "\n",
    "science_avg_score = total_science_scores / len(students_list)    \n",
    "print(\"Science Avg Score:\", science_avg_score)\n",
    "    \n"
   ]
  },
  {
   "cell_type": "code",
   "execution_count": null,
   "metadata": {},
   "outputs": [],
   "source": []
  }
 ],
 "metadata": {
  "kernelspec": {
   "display_name": "Python 3",
   "language": "python",
   "name": "python3"
  },
  "language_info": {
   "codemirror_mode": {
    "name": "ipython",
    "version": 3
   },
   "file_extension": ".py",
   "mimetype": "text/x-python",
   "name": "python",
   "nbconvert_exporter": "python",
   "pygments_lexer": "ipython3",
   "version": "3.7.4"
  }
 },
 "nbformat": 4,
 "nbformat_minor": 4
}
