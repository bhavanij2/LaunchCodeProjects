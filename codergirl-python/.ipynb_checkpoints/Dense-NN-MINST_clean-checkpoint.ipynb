{
 "cells": [
  {
   "cell_type": "markdown",
   "metadata": {},
   "source": [
    "## Import Packages"
   ]
  },
  {
   "cell_type": "code",
   "execution_count": 1,
   "metadata": {},
   "outputs": [],
   "source": [
    "import numpy as np\n",
    "from tensorflow.keras.datasets import mnist\n",
    "from tensorflow.keras.models import Sequential\n",
    "from tensorflow.keras.layers import Dense, Dropout, Activation\n",
    "from tensorflow.keras.optimizers import RMSprop\n",
    "from tensorflow.keras.utils import to_categorical\n",
    "import matplotlib.pyplot as plt\n",
    "\n",
    "import os\n",
    "os.environ['KMP_DUPLICATE_LIB_OK']='True'"
   ]
  },
  {
   "cell_type": "markdown",
   "metadata": {},
   "source": [
    "## Initialize Training Parameters"
   ]
  },
  {
   "cell_type": "code",
   "execution_count": 2,
   "metadata": {},
   "outputs": [],
   "source": [
    "np.random.seed(1671)  # for reproducibility\n",
    "\n",
    "# network and training\n",
    "NB_EPOCH = 20\n",
    "BATCH_SIZE = 128 # Size of \n",
    "VERBOSE = 1\n",
    "NB_CLASSES = 10   # number of outputs = number of digits\n",
    "OPTIMIZER = RMSprop() # optimizer \n",
    "N_HIDDEN = 128 # number of hidden units\n",
    "VALIDATION_SPLIT=0.2 # how much TRAIN is reserved for VALIDATION\n",
    "DROPOUT = 0.3 # Used for regularization\n",
    "RESHAPED = 784 # Number of features to be used"
   ]
  },
  {
   "cell_type": "markdown",
   "metadata": {},
   "source": [
    "## Load MNIST Dataset into training and testing sets\n",
    "* __Problem 1__: Load MINST dataset using Keras function\n",
    "* Load into `X_train`, `y_train`, `X_test`, `y_test`"
   ]
  },
  {
   "cell_type": "code",
   "execution_count": 7,
   "metadata": {},
   "outputs": [],
   "source": [
    "# data: shuffled and split between train and test sets\n",
    "## Problem 1"
   ]
  },
  {
   "cell_type": "code",
   "execution_count": 3,
   "metadata": {},
   "outputs": [],
   "source": [
    "(X_train, Y_train), (X_test, Y_test) = mnist.load_data();"
   ]
  },
  {
   "cell_type": "code",
   "execution_count": 4,
   "metadata": {},
   "outputs": [
    {
     "data": {
      "text/plain": [
       "(60000, 28, 28)"
      ]
     },
     "execution_count": 4,
     "metadata": {},
     "output_type": "execute_result"
    }
   ],
   "source": [
    "X_train.shape"
   ]
  },
  {
   "cell_type": "code",
   "execution_count": 5,
   "metadata": {},
   "outputs": [
    {
     "data": {
      "text/plain": [
       "numpy.ndarray"
      ]
     },
     "execution_count": 5,
     "metadata": {},
     "output_type": "execute_result"
    }
   ],
   "source": [
    "type(X_train)"
   ]
  },
  {
   "cell_type": "code",
   "execution_count": 6,
   "metadata": {},
   "outputs": [
    {
     "data": {
      "text/plain": [
       "(10000, 28, 28)"
      ]
     },
     "execution_count": 6,
     "metadata": {},
     "output_type": "execute_result"
    }
   ],
   "source": [
    "X_test.shape"
   ]
  },
  {
   "cell_type": "code",
   "execution_count": 7,
   "metadata": {},
   "outputs": [
    {
     "data": {
      "text/plain": [
       "60000"
      ]
     },
     "execution_count": 7,
     "metadata": {},
     "output_type": "execute_result"
    }
   ],
   "source": [
    "len(X_train)"
   ]
  },
  {
   "cell_type": "code",
   "execution_count": null,
   "metadata": {},
   "outputs": [],
   "source": []
  },
  {
   "cell_type": "markdown",
   "metadata": {},
   "source": [
    "## Reshape Input Data Frame\n",
    "* Input data is 28x28 greyscale values\n",
    "* Reshape to a 1D vector with 784 features\n",
    "* Training data consists of 60,000 examples\n",
    "* Final data reshaped into a tensor of 60,000 x 784\n",
    "* __Problem 2__: Reshape `X_train` and `X_test` vectors according to dimensions above\n",
    "* Cast type as `float32`"
   ]
  },
  {
   "cell_type": "code",
   "execution_count": 9,
   "metadata": {},
   "outputs": [],
   "source": [
    "## Problem 2"
   ]
  },
  {
   "cell_type": "code",
   "execution_count": 8,
   "metadata": {},
   "outputs": [
    {
     "name": "stdout",
     "output_type": "stream",
     "text": [
      "(60000, 784)\n",
      "(10000, 784)\n"
     ]
    }
   ],
   "source": [
    "X_train = X_train.reshape((len(X_train),RESHAPED))\n",
    "print(X_train.shape)\n",
    "\n",
    "X_test = X_test.reshape(len(X_test), RESHAPED)\n",
    "print(X_test.shape)"
   ]
  },
  {
   "cell_type": "code",
   "execution_count": null,
   "metadata": {},
   "outputs": [],
   "source": []
  },
  {
   "cell_type": "code",
   "execution_count": null,
   "metadata": {},
   "outputs": [],
   "source": []
  },
  {
   "cell_type": "markdown",
   "metadata": {},
   "source": [
    "## Normalize Data\n",
    "* Greyscale data can be normalized by maximum value (255)\n",
    "* __Problem 3__: Normalize `X_train` and `X_test` vectors"
   ]
  },
  {
   "cell_type": "code",
   "execution_count": 9,
   "metadata": {},
   "outputs": [
    {
     "name": "stdout",
     "output_type": "stream",
     "text": [
      "60000 train samples\n",
      "10000 test samples\n"
     ]
    }
   ],
   "source": [
    "## Problem 3\n",
    "print(X_train.shape[0], 'train samples')\n",
    "print(X_test.shape[0], 'test samples')"
   ]
  },
  {
   "cell_type": "code",
   "execution_count": 10,
   "metadata": {},
   "outputs": [
    {
     "name": "stdout",
     "output_type": "stream",
     "text": [
      "Max value: X_train 255\n",
      "Min value: X_train 0\n",
      "Max value: X_train 1.0\n",
      "Min value: X_train 0.0\n"
     ]
    }
   ],
   "source": [
    "print('Max value: X_train', X_train.max());\n",
    "print('Min value: X_train', X_train.min());\n",
    "\n",
    "X_train = X_train / 255;\n",
    "X_test = X_test / 255;\n",
    "\n",
    "print('Max value: X_train', X_train.max());\n",
    "print('Min value: X_train', X_train.min());"
   ]
  },
  {
   "cell_type": "code",
   "execution_count": null,
   "metadata": {},
   "outputs": [],
   "source": []
  },
  {
   "cell_type": "markdown",
   "metadata": {},
   "source": [
    "## Convert array of class matrix to one-hot-vector\n",
    "* __Problem 4__: Use keras function to one-hot-encode `y_train` and `y_test`. \n",
    "* Set to `Y_train` and `Y_test`"
   ]
  },
  {
   "cell_type": "code",
   "execution_count": 11,
   "metadata": {},
   "outputs": [
    {
     "name": "stdout",
     "output_type": "stream",
     "text": [
      "1\n"
     ]
    }
   ],
   "source": [
    "# Original class vector\n",
    "print(Y_train[3])"
   ]
  },
  {
   "cell_type": "code",
   "execution_count": 11,
   "metadata": {},
   "outputs": [],
   "source": [
    "## Problem 4"
   ]
  },
  {
   "cell_type": "code",
   "execution_count": 12,
   "metadata": {},
   "outputs": [],
   "source": [
    "Y_train = to_categorical(Y_train)\n",
    "Y_test = to_categorical(Y_test)"
   ]
  },
  {
   "cell_type": "code",
   "execution_count": null,
   "metadata": {},
   "outputs": [],
   "source": []
  },
  {
   "cell_type": "code",
   "execution_count": null,
   "metadata": {},
   "outputs": [],
   "source": []
  },
  {
   "cell_type": "code",
   "execution_count": 13,
   "metadata": {},
   "outputs": [
    {
     "name": "stdout",
     "output_type": "stream",
     "text": [
      "[0. 1. 0. 0. 0. 0. 0. 0. 0. 0.]\n"
     ]
    }
   ],
   "source": [
    "# One-hot vector encoding\n",
    "print(Y_train[3])"
   ]
  },
  {
   "cell_type": "markdown",
   "metadata": {},
   "source": [
    "## Build Model\n",
    "* M_HIDDEN = 128 : Hidden units for each Dense layer\n",
    "* DROPOUT = 0.3 : Randomly setting 30% of weights to 0 at each update during training time\n",
    "* NB_CLASSES = 10 : Number of output classes\n",
    "* __Problem 5__ : Build Neural Network using Keras model functions\n",
    "* Look up `Sequential`, `Dense`, `Activation`\n",
    "* Print model `summary`"
   ]
  },
  {
   "cell_type": "code",
   "execution_count": null,
   "metadata": {},
   "outputs": [],
   "source": [
    "## Problem 5"
   ]
  },
  {
   "cell_type": "code",
   "execution_count": 14,
   "metadata": {},
   "outputs": [],
   "source": [
    "model = Sequential()\n",
    "\n",
    "model.add(Dense(N_HIDDEN, input_shape= (X_train.shape[1],)))\n",
    "model.add(Activation('relu'))\n",
    "model.add(Dropout(DROPOUT))\n",
    "\n",
    "# First two lines are equivalent to the below line\n",
    "# model.add(Dense(N_HIDDEN, input_shape= (X_train.shape[1],), activation = 'relu'))\n",
    "\n",
    "\n",
    "model.add(Dense(NB_CLASSES))\n",
    "model.add(Activation('relu'))"
   ]
  },
  {
   "cell_type": "code",
   "execution_count": 15,
   "metadata": {},
   "outputs": [
    {
     "name": "stdout",
     "output_type": "stream",
     "text": [
      "Model: \"sequential\"\n",
      "_________________________________________________________________\n",
      "Layer (type)                 Output Shape              Param #   \n",
      "=================================================================\n",
      "dense (Dense)                (None, 128)               100480    \n",
      "_________________________________________________________________\n",
      "activation (Activation)      (None, 128)               0         \n",
      "_________________________________________________________________\n",
      "dropout (Dropout)            (None, 128)               0         \n",
      "_________________________________________________________________\n",
      "dense_1 (Dense)              (None, 10)                1290      \n",
      "_________________________________________________________________\n",
      "activation_1 (Activation)    (None, 10)                0         \n",
      "=================================================================\n",
      "Total params: 101,770\n",
      "Trainable params: 101,770\n",
      "Non-trainable params: 0\n",
      "_________________________________________________________________\n"
     ]
    }
   ],
   "source": [
    "model.summary()"
   ]
  },
  {
   "cell_type": "code",
   "execution_count": null,
   "metadata": {},
   "outputs": [],
   "source": []
  },
  {
   "cell_type": "code",
   "execution_count": 16,
   "metadata": {},
   "outputs": [
    {
     "name": "stdout",
     "output_type": "stream",
     "text": [
      "_________________________________________________________________\n",
      "Layer (type)                 Output Shape              Param #   \n",
      "=================================================================\n",
      "dense_3 (Dense)              (None, 128)               100480    \n",
      "_________________________________________________________________\n",
      "activation_3 (Activation)    (None, 128)               0         \n",
      "_________________________________________________________________\n",
      "dense_4 (Dense)              (None, 10)                1290      \n",
      "_________________________________________________________________\n",
      "activation_4 (Activation)    (None, 10)                0         \n",
      "=================================================================\n",
      "Total params: 101,770\n",
      "Trainable params: 101,770\n",
      "Non-trainable params: 0\n",
      "_________________________________________________________________\n"
     ]
    }
   ],
   "source": []
  },
  {
   "cell_type": "markdown",
   "metadata": {},
   "source": [
    "## Model Compilation\n",
    "* Loss function : The loss value that will be minimized by the model will then be the sum of all individual losses\n",
    "* Optimizer : How to optimize the loss function\n",
    "* Metrics : Accuracy\n",
    "* __Problem 6__ : `compile` the model you built from Problem 5\n",
    "* Use appropriate loss function, optimizer, and performance metric"
   ]
  },
  {
   "cell_type": "code",
   "execution_count": 19,
   "metadata": {},
   "outputs": [],
   "source": [
    "## Problem 6"
   ]
  },
  {
   "cell_type": "code",
   "execution_count": 16,
   "metadata": {},
   "outputs": [],
   "source": [
    "model.compile(optimizer=OPTIMIZER, loss='mse', metrics=['accuracy'])"
   ]
  },
  {
   "cell_type": "code",
   "execution_count": null,
   "metadata": {},
   "outputs": [],
   "source": []
  },
  {
   "cell_type": "code",
   "execution_count": null,
   "metadata": {},
   "outputs": [],
   "source": []
  },
  {
   "cell_type": "markdown",
   "metadata": {},
   "source": [
    "## Fit Model\n",
    "* Batch Size : Number of samples per gradient update.\n",
    "* Epochs: An epoch is an iteration over the entire x and y data provided.\n",
    "* Validation Split: Fraction of the training data to be used as validation data. \n",
    "* __Problem 7__: Fit your model with appropriate batch size, number of epochs, verbosity, and validation split\n",
    "* Save model fit to a new variable named `history`"
   ]
  },
  {
   "cell_type": "code",
   "execution_count": null,
   "metadata": {},
   "outputs": [],
   "source": [
    "## Problem 7"
   ]
  },
  {
   "cell_type": "code",
   "execution_count": 17,
   "metadata": {},
   "outputs": [
    {
     "name": "stdout",
     "output_type": "stream",
     "text": [
      "Train on 48000 samples, validate on 12000 samples\n",
      "Epoch 1/20\n",
      "48000/48000 [==============================] - 3s 62us/sample - loss: 0.0296 - accuracy: 0.8347 - val_loss: 0.0126 - val_accuracy: 0.9493\n",
      "Epoch 2/20\n",
      "48000/48000 [==============================] - 2s 42us/sample - loss: 0.0149 - accuracy: 0.9447 - val_loss: 0.0093 - val_accuracy: 0.9630\n",
      "Epoch 3/20\n",
      "48000/48000 [==============================] - 2s 41us/sample - loss: 0.0122 - accuracy: 0.9554 - val_loss: 0.0084 - val_accuracy: 0.9657\n",
      "Epoch 4/20\n",
      "48000/48000 [==============================] - 2s 41us/sample - loss: 0.0107 - accuracy: 0.9614 - val_loss: 0.0078 - val_accuracy: 0.9666\n",
      "Epoch 5/20\n",
      "48000/48000 [==============================] - 2s 40us/sample - loss: 0.0096 - accuracy: 0.9648 - val_loss: 0.0073 - val_accuracy: 0.9671\n",
      "Epoch 6/20\n",
      "48000/48000 [==============================] - 2s 41us/sample - loss: 0.0088 - accuracy: 0.9680 - val_loss: 0.0070 - val_accuracy: 0.9695\n",
      "Epoch 7/20\n",
      "48000/48000 [==============================] - 2s 40us/sample - loss: 0.0083 - accuracy: 0.9692 - val_loss: 0.0067 - val_accuracy: 0.9707\n",
      "Epoch 8/20\n",
      "48000/48000 [==============================] - 2s 41us/sample - loss: 0.0077 - accuracy: 0.9723 - val_loss: 0.0064 - val_accuracy: 0.9703\n",
      "Epoch 9/20\n",
      "48000/48000 [==============================] - 2s 41us/sample - loss: 0.0073 - accuracy: 0.9725 - val_loss: 0.0064 - val_accuracy: 0.9708\n",
      "Epoch 10/20\n",
      "48000/48000 [==============================] - 2s 41us/sample - loss: 0.0070 - accuracy: 0.9739 - val_loss: 0.0063 - val_accuracy: 0.9710\n",
      "Epoch 11/20\n",
      "48000/48000 [==============================] - 2s 41us/sample - loss: 0.0068 - accuracy: 0.9741 - val_loss: 0.0064 - val_accuracy: 0.9692\n",
      "Epoch 12/20\n",
      "48000/48000 [==============================] - 2s 41us/sample - loss: 0.0065 - accuracy: 0.9752 - val_loss: 0.0063 - val_accuracy: 0.9710\n",
      "Epoch 13/20\n",
      "48000/48000 [==============================] - 2s 41us/sample - loss: 0.0063 - accuracy: 0.9757 - val_loss: 0.0059 - val_accuracy: 0.9723\n",
      "Epoch 14/20\n",
      "48000/48000 [==============================] - 2s 41us/sample - loss: 0.0061 - accuracy: 0.9760 - val_loss: 0.0059 - val_accuracy: 0.9716\n",
      "Epoch 15/20\n",
      "48000/48000 [==============================] - 2s 41us/sample - loss: 0.0059 - accuracy: 0.9771 - val_loss: 0.0060 - val_accuracy: 0.9706\n",
      "Epoch 16/20\n",
      "48000/48000 [==============================] - 2s 41us/sample - loss: 0.0058 - accuracy: 0.9769 - val_loss: 0.0058 - val_accuracy: 0.9723\n",
      "Epoch 17/20\n",
      "48000/48000 [==============================] - 2s 41us/sample - loss: 0.0058 - accuracy: 0.9770 - val_loss: 0.0058 - val_accuracy: 0.9722\n",
      "Epoch 18/20\n",
      "48000/48000 [==============================] - 2s 41us/sample - loss: 0.0056 - accuracy: 0.9779 - val_loss: 0.0058 - val_accuracy: 0.9728\n",
      "Epoch 19/20\n",
      "48000/48000 [==============================] - 2s 46us/sample - loss: 0.0055 - accuracy: 0.9782 - val_loss: 0.0059 - val_accuracy: 0.9718\n",
      "Epoch 20/20\n",
      "48000/48000 [==============================] - 2s 45us/sample - loss: 0.0054 - accuracy: 0.9785 - val_loss: 0.0058 - val_accuracy: 0.9712\n"
     ]
    }
   ],
   "source": [
    "history = model.fit(x=X_train, \n",
    "          y=Y_train, \n",
    "          batch_size=BATCH_SIZE, \n",
    "          epochs=NB_EPOCH, \n",
    "          verbose=VERBOSE, \n",
    "          validation_split=VALIDATION_SPLIT\n",
    "         )"
   ]
  },
  {
   "cell_type": "code",
   "execution_count": null,
   "metadata": {},
   "outputs": [],
   "source": []
  },
  {
   "cell_type": "code",
   "execution_count": null,
   "metadata": {},
   "outputs": [],
   "source": []
  },
  {
   "cell_type": "code",
   "execution_count": 18,
   "metadata": {},
   "outputs": [
    {
     "name": "stdout",
     "output_type": "stream",
     "text": [
      "Train on 48000 samples, validate on 12000 samples\n",
      "Epoch 1/20\n",
      "48000/48000 [==============================] - 3s 58us/step - loss: 0.3664 - acc: 0.8992 - val_loss: 0.2044 - val_acc: 0.9447\n",
      "Epoch 2/20\n",
      "48000/48000 [==============================] - 2s 46us/step - loss: 0.1794 - acc: 0.9488 - val_loss: 0.1557 - val_acc: 0.9564\n",
      "Epoch 3/20\n",
      "48000/48000 [==============================] - 2s 46us/step - loss: 0.1290 - acc: 0.9630 - val_loss: 0.1224 - val_acc: 0.9647\n",
      "Epoch 4/20\n",
      "48000/48000 [==============================] - 2s 46us/step - loss: 0.1011 - acc: 0.9707 - val_loss: 0.1126 - val_acc: 0.9662\n",
      "Epoch 5/20\n",
      "48000/48000 [==============================] - 2s 46us/step - loss: 0.0817 - acc: 0.9760 - val_loss: 0.1032 - val_acc: 0.9714\n",
      "Epoch 6/20\n",
      "48000/48000 [==============================] - 2s 46us/step - loss: 0.0678 - acc: 0.9806 - val_loss: 0.0918 - val_acc: 0.9737\n",
      "Epoch 7/20\n",
      "48000/48000 [==============================] - 2s 47us/step - loss: 0.0575 - acc: 0.9836 - val_loss: 0.0900 - val_acc: 0.9732\n",
      "Epoch 8/20\n",
      "48000/48000 [==============================] - 2s 47us/step - loss: 0.0495 - acc: 0.9861 - val_loss: 0.0914 - val_acc: 0.9731\n",
      "Epoch 9/20\n",
      "48000/48000 [==============================] - 2s 46us/step - loss: 0.0424 - acc: 0.9880 - val_loss: 0.0869 - val_acc: 0.9745\n",
      "Epoch 10/20\n",
      "48000/48000 [==============================] - 2s 46us/step - loss: 0.0367 - acc: 0.9896 - val_loss: 0.0854 - val_acc: 0.9750\n",
      "Epoch 11/20\n",
      "48000/48000 [==============================] - 2s 46us/step - loss: 0.0319 - acc: 0.9912 - val_loss: 0.0865 - val_acc: 0.9757\n",
      "Epoch 12/20\n",
      "48000/48000 [==============================] - 2s 48us/step - loss: 0.0275 - acc: 0.9926 - val_loss: 0.0877 - val_acc: 0.9759\n",
      "Epoch 13/20\n",
      "48000/48000 [==============================] - 2s 47us/step - loss: 0.0237 - acc: 0.9937 - val_loss: 0.0897 - val_acc: 0.9769\n",
      "Epoch 14/20\n",
      "48000/48000 [==============================] - 2s 46us/step - loss: 0.0203 - acc: 0.9947 - val_loss: 0.0904 - val_acc: 0.9758\n",
      "Epoch 15/20\n",
      "48000/48000 [==============================] - 2s 46us/step - loss: 0.0176 - acc: 0.9955 - val_loss: 0.0947 - val_acc: 0.9758\n",
      "Epoch 16/20\n",
      "48000/48000 [==============================] - 2s 46us/step - loss: 0.0147 - acc: 0.9966 - val_loss: 0.0898 - val_acc: 0.9763\n",
      "Epoch 17/20\n",
      "48000/48000 [==============================] - 2s 46us/step - loss: 0.0129 - acc: 0.9969 - val_loss: 0.0889 - val_acc: 0.9774\n",
      "Epoch 18/20\n",
      "48000/48000 [==============================] - 2s 46us/step - loss: 0.0112 - acc: 0.9973 - val_loss: 0.0952 - val_acc: 0.9757\n",
      "Epoch 19/20\n",
      "48000/48000 [==============================] - 2s 47us/step - loss: 0.0092 - acc: 0.9979 - val_loss: 0.0951 - val_acc: 0.9762\n",
      "Epoch 20/20\n",
      "48000/48000 [==============================] - 2s 47us/step - loss: 0.0079 - acc: 0.9984 - val_loss: 0.0934 - val_acc: 0.9778\n"
     ]
    }
   ],
   "source": []
  },
  {
   "cell_type": "markdown",
   "metadata": {},
   "source": [
    "## Evaluate Test Accuracy\n",
    "* __Problem 8__ : Score your model using Keras functions"
   ]
  },
  {
   "cell_type": "code",
   "execution_count": null,
   "metadata": {},
   "outputs": [],
   "source": [
    "## Problem 8"
   ]
  },
  {
   "cell_type": "code",
   "execution_count": 18,
   "metadata": {},
   "outputs": [],
   "source": [
    "[test_loss, test_accuracy] = model.evaluate(x=X_test, y=Y_test, verbose=0)"
   ]
  },
  {
   "cell_type": "code",
   "execution_count": 19,
   "metadata": {},
   "outputs": [
    {
     "name": "stdout",
     "output_type": "stream",
     "text": [
      "\n",
      "Test score: 0.005893486736156047\n",
      "Test accuracy: 0.9717\n"
     ]
    }
   ],
   "source": [
    "print(\"\\nTest score:\", test_loss)\n",
    "print('Test accuracy:', test_accuracy)"
   ]
  },
  {
   "cell_type": "code",
   "execution_count": null,
   "metadata": {},
   "outputs": [],
   "source": []
  },
  {
   "cell_type": "code",
   "execution_count": null,
   "metadata": {},
   "outputs": [],
   "source": []
  },
  {
   "cell_type": "code",
   "execution_count": 15,
   "metadata": {},
   "outputs": [
    {
     "name": "stdout",
     "output_type": "stream",
     "text": [
      "10000/10000 [==============================] - 0s 29us/step\n",
      "\n",
      "Test score: 0.0946132834445496\n",
      "Test accuracy: 0.9796\n"
     ]
    }
   ],
   "source": [
    "## Problem 8\n",
    "print(\"\\nTest score:\", score[0])\n",
    "print('Test accuracy:', score[1])"
   ]
  },
  {
   "cell_type": "markdown",
   "metadata": {},
   "source": [
    "## Evaluating Accuracy Over Epochs\n",
    "* __Problem 9__: Plot accuracy as a function of epochs\n",
    "* Use `history` for data to plot\n",
    "* Make sure to include plot labels"
   ]
  },
  {
   "cell_type": "code",
   "execution_count": null,
   "metadata": {},
   "outputs": [],
   "source": [
    "# summarize history for accuracy\n",
    "## Problem 9"
   ]
  },
  {
   "cell_type": "code",
   "execution_count": 19,
   "metadata": {},
   "outputs": [],
   "source": []
  },
  {
   "cell_type": "code",
   "execution_count": 20,
   "metadata": {},
   "outputs": [
    {
     "data": {
      "text/plain": [
       "{'loss': [0.029594011440873147,\n",
       "  0.01491091759254535,\n",
       "  0.01220963337769111,\n",
       "  0.010741270903497935,\n",
       "  0.0096271704758207,\n",
       "  0.008801121565202873,\n",
       "  0.008259252276271582,\n",
       "  0.007676679259166121,\n",
       "  0.007287861941382289,\n",
       "  0.006970506334677338,\n",
       "  0.0068049097110827765,\n",
       "  0.00648616059590131,\n",
       "  0.006305327519774437,\n",
       "  0.006143043493852019,\n",
       "  0.005928702307244142,\n",
       "  0.005847963832939665,\n",
       "  0.005794882931436101,\n",
       "  0.0056004072415332,\n",
       "  0.005492438313861688,\n",
       "  0.00539164157025516],\n",
       " 'accuracy': [0.83466667,\n",
       "  0.9446667,\n",
       "  0.955375,\n",
       "  0.961375,\n",
       "  0.96479166,\n",
       "  0.96795833,\n",
       "  0.96922916,\n",
       "  0.97229165,\n",
       "  0.9725,\n",
       "  0.9738542,\n",
       "  0.9741458,\n",
       "  0.9751667,\n",
       "  0.97572917,\n",
       "  0.976,\n",
       "  0.9770625,\n",
       "  0.9768958,\n",
       "  0.97702086,\n",
       "  0.9778542,\n",
       "  0.97820836,\n",
       "  0.97847915],\n",
       " 'val_loss': [0.012571560954054197,\n",
       "  0.009320773368080458,\n",
       "  0.00840454954157273,\n",
       "  0.007798561805238326,\n",
       "  0.007256366984297832,\n",
       "  0.0069612053806583085,\n",
       "  0.0066765274368226525,\n",
       "  0.006436074856668711,\n",
       "  0.006404732493062814,\n",
       "  0.006275735308726629,\n",
       "  0.00644677548420926,\n",
       "  0.006251928210258484,\n",
       "  0.005860429354012013,\n",
       "  0.0058925728754450875,\n",
       "  0.006020270131528378,\n",
       "  0.005750422629838188,\n",
       "  0.005756424825638533,\n",
       "  0.005758229535693923,\n",
       "  0.005934491309026877,\n",
       "  0.005829100903123617],\n",
       " 'val_accuracy': [0.9493333,\n",
       "  0.963,\n",
       "  0.96575,\n",
       "  0.9665833,\n",
       "  0.96708333,\n",
       "  0.9695,\n",
       "  0.97075,\n",
       "  0.97033334,\n",
       "  0.97083336,\n",
       "  0.971,\n",
       "  0.9691667,\n",
       "  0.971,\n",
       "  0.9723333,\n",
       "  0.9715833,\n",
       "  0.9705833,\n",
       "  0.9723333,\n",
       "  0.97225,\n",
       "  0.97283334,\n",
       "  0.97183335,\n",
       "  0.97125]}"
      ]
     },
     "execution_count": 20,
     "metadata": {},
     "output_type": "execute_result"
    }
   ],
   "source": [
    "history.history"
   ]
  },
  {
   "cell_type": "code",
   "execution_count": 22,
   "metadata": {},
   "outputs": [],
   "source": [
    "%matplotlib inline"
   ]
  },
  {
   "cell_type": "code",
   "execution_count": 24,
   "metadata": {},
   "outputs": [
    {
     "data": {
      "image/png": "[encoded data removed]",
      "text/plain": [
       "<Figure size 432x288 with 1 Axes>"
      ]
     },
     "metadata": {
      "needs_background": "light"
     },
     "output_type": "display_data"
    }
   ],
   "source": [
    "plt.plot(history.history['accuracy'], label = 'train')\n",
    "plt.plot(history.history['val_accuracy'], label = 'test')\n",
    "plt.legend()\n",
    "plt.xlabel('epoch')\n",
    "plt.ylabel('accuracy')\n",
    "plt.title('model accuracy')\n",
    "plt.show()"
   ]
  },
  {
   "cell_type": "code",
   "execution_count": null,
   "metadata": {},
   "outputs": [],
   "source": [
    "# summarize history for accuracy\n",
    "## Problem 9"
   ]
  },
  {
   "cell_type": "markdown",
   "metadata": {},
   "source": [
    "## Evaluating Loss Function Over Epochs\n",
    "* __Problem 10__: Plot loss function as a function of epochs\n",
    "* Use `history` for data to plot\n",
    "* Make sure to include plot labels"
   ]
  },
  {
   "cell_type": "code",
   "execution_count": null,
   "metadata": {},
   "outputs": [],
   "source": [
    "# summarize history for loss\n",
    "## Problem 10"
   ]
  },
  {
   "cell_type": "code",
   "execution_count": null,
   "metadata": {},
   "outputs": [],
   "source": []
  },
  {
   "cell_type": "code",
   "execution_count": null,
   "metadata": {},
   "outputs": [],
   "source": []
  },
  {
   "cell_type": "code",
   "execution_count": 20,
   "metadata": {},
   "outputs": [
    {
     "data": {
      "image/png": "[encoded data removed]",
      "text/plain": [
       "<Figure size 432x288 with 1 Axes>"
      ]
     },
     "metadata": {},
     "output_type": "display_data"
    }
   ],
   "source": [
    "# summarize history for loss\n",
    "## Problem 10"
   ]
  },
  {
   "cell_type": "markdown",
   "metadata": {},
   "source": [
    "## Questions\n",
    "1. How does your first NN compare with the literature: https://rodrigob.github.io/are_we_there_yet/build/classification_datasets_results.html\n",
    "2. Is your model overfit or underfit? \n",
    "3. Does your model have high variance or low variance? "
   ]
  },
  {
   "cell_type": "code",
   "execution_count": null,
   "metadata": {},
   "outputs": [],
   "source": []
  }
 ],
 "metadata": {
  "anaconda-cloud": {},
  "kernelspec": {
   "display_name": "Python 3",
   "language": "python",
   "name": "python3"
  },
  "language_info": {
   "codemirror_mode": {
    "name": "ipython",
    "version": 3
   },
   "file_extension": ".py",
   "mimetype": "text/x-python",
   "name": "python",
   "nbconvert_exporter": "python",
   "pygments_lexer": "ipython3",
   "version": "3.7.6"
  }
 },
 "nbformat": 4,
 "nbformat_minor": 2
}
