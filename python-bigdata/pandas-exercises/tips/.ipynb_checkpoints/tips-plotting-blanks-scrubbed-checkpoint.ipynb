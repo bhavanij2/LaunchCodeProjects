{
 "cells": [
  {
   "cell_type": "markdown",
   "metadata": {},
   "source": [
    "# Plotting practice - tips dataset\n",
    "\n",
    "* Adapted from [guipsamora pandas-exercises](https://github.com/guipsamora/pandas_exercises)\n",
    "\n",
    "### Instructions\n",
    "\n",
    "* The goal of this workbook is to get practice plotting data from pandas DataFrames using `matplotlib` and `seaborn`.\n",
    "* Some of the code blocks below are missing parts of the code. The missing parts are indicated by `____`. You need to fill in the correct function or variable name to complete the prompt for that step.\n",
    "    - For example, on Step 4, the prompt is to view the first 10 entries in the data. The code block is: `tips._____(10)`. \n",
    "    - The solution to this code is `tips.head(10)`. You should type in `head` where the `____` is originally and execute the code bock.\n",
    "* You have completed this assignment when you have filled in all of the blanks and executed the entire notebook successfully."
   ]
  },
  {
   "cell_type": "markdown",
   "metadata": {},
   "source": [
    "### Introduction:\n",
    "\n",
    "This exercise was created based on the tutorial and documentation from [Seaborn](https://stanford.edu/~mwaskom/software/seaborn/index.html)  \n",
    "The dataset being used is tips from Seaborn.\n",
    "\n",
    "### Step 1. Download the dataset \n",
    "1. Open the [tips dataset](https://github.com/rlowd/python-bigdata/blob/master/pandas-exercises/data/tips-dataset.csv) in new window.\n",
    "2. Click the \"Raw\" button at the top right.\n",
    "3. Right-click and \"Save As...\" to the same folder as your jupyter notebook.\n",
    "![Click the \"Raw\" button](../../images/click-raw-button.png)\n",
    "![Right click and \"Save As...\"](../../images/click-save-as.png)"
   ]
  },
  {
   "cell_type": "markdown",
   "metadata": {},
   "source": [
    "### Step 2. Import modules"
   ]
  },
  {
   "cell_type": "code",
   "execution_count": null,
   "metadata": {},
   "outputs": [],
   "source": [
    "import pandas as pd\n",
    "\n",
    "# visualization libraries\n",
    "import matplotlib.pyplot as plt\n",
    "import seaborn as sns\n",
    "\n",
    "\n",
    "# print the graphs in the notebook\n",
    "% matplotlib inline\n",
    "\n",
    "# set seaborn style to white\n",
    "sns.set_style(\"white\")"
   ]
  },
  {
   "cell_type": "markdown",
   "metadata": {},
   "source": [
    "### Step 3. Read in the tips dataset\n",
    "\n",
    "* **Modify the path to read the dataset based on where it lives on your computer.**\n",
    "* Assign it to the variable `tips`."
   ]
  },
  {
   "cell_type": "code",
   "execution_count": null,
   "metadata": {},
   "outputs": [],
   "source": [
    "tips = pd.read_csv('/path/to/data/tips-dataset.csv')\n",
    "tips.head()"
   ]
  },
  {
   "cell_type": "markdown",
   "metadata": {},
   "source": [
    "### Step 4. Delete the Unnamed 0 column"
   ]
  },
  {
   "cell_type": "code",
   "execution_count": null,
   "metadata": {},
   "outputs": [],
   "source": [
    "del tips['Unnamed: 0']"
   ]
  },
  {
   "cell_type": "markdown",
   "metadata": {},
   "source": [
    "* View the first 10 rows of the cleaned dataset."
   ]
  },
  {
   "cell_type": "code",
   "execution_count": null,
   "metadata": {},
   "outputs": [],
   "source": [
    "tips.____(10)"
   ]
  },
  {
   "cell_type": "markdown",
   "metadata": {},
   "source": [
    "### Step 5. Plot the total_bill column histogram\n",
    "\n",
    "* First preview the `total_bill` column."
   ]
  },
  {
   "cell_type": "code",
   "execution_count": null,
   "metadata": {},
   "outputs": [],
   "source": [
    "tips_____.head()"
   ]
  },
  {
   "cell_type": "markdown",
   "metadata": {},
   "source": [
    "* Now use `distplot` to create a histogram of these data.\n",
    "* _Note: you will get a `UserWarning` here. This is a [known issue](https://github.com/mwaskom/seaborn/issues/1392), just ignore the warning for now._"
   ]
  },
  {
   "cell_type": "code",
   "execution_count": null,
   "metadata": {},
   "outputs": [],
   "source": [
    "# create histogram\n",
    "ttbill = sns._______(tips.total_bill);\n",
    "\n",
    "# set lables and titles\n",
    "ttbill.set(xlabel = 'Value', ylabel = 'Frequency', title = \"Total Bill\")\n",
    "\n",
    "# take out the right and upper borders\n",
    "sns.despine()"
   ]
  },
  {
   "cell_type": "markdown",
   "metadata": {},
   "source": [
    "### Step 6. Create a scatter plot presenting the relationship between total_bill and tip\n",
    "\n",
    "* Preview the `total_bill` and `tip` values.\n",
    "* Note there are two ways to preview a single column from a pandas DataFrame. \n",
    "    - `DataFrame['quoted_column_name_in_brackets'].head()\n",
    "    - `DataFrame.raw_column_name.head()\n",
    "* Try both!"
   ]
  },
  {
   "cell_type": "code",
   "execution_count": null,
   "metadata": {
    "scrolled": true
   },
   "outputs": [],
   "source": [
    "# Preview total_bill values\n",
    "tips_____.head()"
   ]
  },
  {
   "cell_type": "code",
   "execution_count": null,
   "metadata": {},
   "outputs": [],
   "source": [
    "# Preview tip values\n",
    "_____.tip.head()"
   ]
  },
  {
   "cell_type": "markdown",
   "metadata": {},
   "source": [
    "* Use seaborn `jointplot()` to create a scatter plot showing the realtionship between two columns.\n",
    "* _Note: you will get a `UserWarning` here. This is a [known issue](https://github.com/mwaskom/seaborn/issues/1392), just ignore the warning for now._"
   ]
  },
  {
   "cell_type": "code",
   "execution_count": null,
   "metadata": {
    "scrolled": true
   },
   "outputs": [],
   "source": [
    "sns._____( x =\"total_bill\", y =\"tip\", data = _____ )"
   ]
  },
  {
   "cell_type": "markdown",
   "metadata": {},
   "source": [
    "### Step 7.  Create one image with the relationship of total_bill, tip and size.\n",
    "\n",
    "* Use `pairplot()` to create sets of scatter plots"
   ]
  },
  {
   "cell_type": "code",
   "execution_count": null,
   "metadata": {},
   "outputs": [],
   "source": [
    "___.pairplot(data = _____)"
   ]
  },
  {
   "cell_type": "markdown",
   "metadata": {},
   "source": [
    "### Step 8. Present the relationship between days and total_bill value\n",
    "\n",
    "* What types of values are the `day` and `total_bill` columns?"
   ]
  },
  {
   "cell_type": "code",
   "execution_count": null,
   "metadata": {},
   "outputs": [],
   "source": [
    "tips.day.head()"
   ]
  },
  {
   "cell_type": "code",
   "execution_count": null,
   "metadata": {},
   "outputs": [],
   "source": [
    "type(tips.day.values[0])"
   ]
  },
  {
   "cell_type": "code",
   "execution_count": null,
   "metadata": {},
   "outputs": [],
   "source": [
    "tips.total_bill.head()"
   ]
  },
  {
   "cell_type": "code",
   "execution_count": null,
   "metadata": {},
   "outputs": [],
   "source": [
    "type(_____.total_bill.values[0])"
   ]
  },
  {
   "cell_type": "code",
   "execution_count": null,
   "metadata": {},
   "outputs": [],
   "source": [
    "sns.stripplot(x = \"____\", y = \"____\", data = tips, jitter = True);"
   ]
  },
  {
   "cell_type": "markdown",
   "metadata": {},
   "source": [
    "### Step 9. Create a scatter plot with the day as the y-axis and tip as the x-axis, differ the dots by sex"
   ]
  },
  {
   "cell_type": "code",
   "execution_count": null,
   "metadata": {},
   "outputs": [],
   "source": [
    "tips.sex.head()"
   ]
  },
  {
   "cell_type": "code",
   "execution_count": null,
   "metadata": {},
   "outputs": [],
   "source": [
    "# What type are the individual values in the sex column?\n",
    "type(tips.sex.____[0])"
   ]
  },
  {
   "cell_type": "code",
   "execution_count": null,
   "metadata": {},
   "outputs": [],
   "source": [
    "# Map hue to the sex value to alter color of the dots according to gender.\n",
    "sns.stripplot(x = \"tip\", y = \"day\", hue = \"_____\", data = ____, jitter = True);"
   ]
  },
  {
   "cell_type": "markdown",
   "metadata": {},
   "source": [
    "### Step 10.  Create a box plot presenting the total_bill per day differetiation the time (Dinner or Lunch)\n",
    "\n",
    "* Map `time` values onto the `hue` parameter."
   ]
  },
  {
   "cell_type": "code",
   "execution_count": null,
   "metadata": {},
   "outputs": [],
   "source": [
    "tips.time.head()"
   ]
  },
  {
   "cell_type": "code",
   "execution_count": null,
   "metadata": {},
   "outputs": [],
   "source": [
    "sns.boxplot(x = \"____\", y = \"total_bill\", hue = \"____\", data = tips);"
   ]
  },
  {
   "cell_type": "markdown",
   "metadata": {},
   "source": [
    "### Step 11. Create two histograms of the tip value based for Dinner and Lunch. They must be side by side."
   ]
  },
  {
   "cell_type": "code",
   "execution_count": null,
   "metadata": {},
   "outputs": [],
   "source": [
    "tips.time.unique()"
   ]
  },
  {
   "cell_type": "code",
   "execution_count": null,
   "metadata": {},
   "outputs": [],
   "source": [
    "# better seaborn style\n",
    "sns.set(style = \"ticks\")\n",
    "\n",
    "# creates FacetGrid\n",
    "g = sns.FacetGrid(tips, col = \"_____\")\n",
    "g.map(plt.hist, \"tip\");"
   ]
  },
  {
   "cell_type": "markdown",
   "metadata": {},
   "source": [
    "### Step 12. Create two scatterplots graphs, one for Male and another for Female, presenting the total_bill value and tip relationship, differing by smoker or no smoker\n",
    "\n",
    "* You want the color (`hue`) to map to smoking status, and the facets (each separate plot) to map to the sex (M/F). \n",
    "* Hint: the `col` argument in `FacetGrid()` stands for column."
   ]
  },
  {
   "cell_type": "code",
   "execution_count": null,
   "metadata": {},
   "outputs": [],
   "source": [
    "g = sns.FacetGrid(tips, col = \"____\", hue = \"_____\")\n",
    "g.map(plt.scatter, \"total_bill\", \"tip\", alpha =.7)\n",
    "\n",
    "g.add_legend();"
   ]
  },
  {
   "cell_type": "markdown",
   "metadata": {},
   "source": [
    "### BONUS: Create your own question and answer it using a graph."
   ]
  },
  {
   "cell_type": "code",
   "execution_count": null,
   "metadata": {},
   "outputs": [],
   "source": []
  }
 ],
 "metadata": {
  "kernelspec": {
   "display_name": "Python 3",
   "language": "python",
   "name": "python3"
  },
  "language_info": {
   "codemirror_mode": {
    "name": "ipython",
    "version": 3
   },
   "file_extension": ".py",
   "mimetype": "text/x-python",
   "name": "python",
   "nbconvert_exporter": "python",
   "pygments_lexer": "ipython3",
   "version": "3.6.5"
  }
 },
 "nbformat": 4,
 "nbformat_minor": 1
}
